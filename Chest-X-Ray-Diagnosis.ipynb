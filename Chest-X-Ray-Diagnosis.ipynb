{
  "nbformat": 4,
  "nbformat_minor": 0,
  "metadata": {
    "colab": {
      "name": "final version .ipynb",
      "provenance": [],
      "collapsed_sections": [],
      "toc_visible": true,
      "machine_shape": "hm"
    },
    "kernelspec": {
      "display_name": "Python 3",
      "name": "python3"
    },
    "accelerator": "GPU"
  },
  "cells": [
    {
      "cell_type": "markdown",
      "metadata": {
        "id": "_yd0H6VpTvQf"
      },
      "source": [
        "---\r\n",
        "---\r\n",
        "\r\n",
        "# ***Code Starts Here***\r\n",
        "\r\n",
        "---\r\n",
        "---"
      ]
    },
    {
      "cell_type": "markdown",
      "metadata": {
        "id": "MrRORTegXMRe"
      },
      "source": [
        "# ***Loading Images***"
      ]
    },
    {
      "cell_type": "markdown",
      "metadata": {
        "id": "egXq90sI-J45"
      },
      "source": [
        "## **API file**"
      ]
    },
    {
      "cell_type": "code",
      "metadata": {
        "colab": {
          "resources": {
            "http://localhost:8080/nbextensions/google.colab/files.js": {
              "data": "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",
              "ok": true,
              "headers": [
                [
                  "content-type",
                  "application/javascript"
                ]
              ],
              "status": 200,
              "status_text": ""
            }
          },
          "base_uri": "https://localhost:8080/",
          "height": 91
        },
        "id": "tAb77yZ9fzMG",
        "outputId": "ea7fec6c-4116-420c-cca0-d57d03b115d9"
      },
      "source": [
        "###### Load Kaggle Authentication File ######\r\n",
        "from google.colab import files\r\n",
        "files.upload()"
      ],
      "execution_count": null,
      "outputs": [
        {
          "output_type": "display_data",
          "data": {
            "text/html": [
              "\n",
              "     <input type=\"file\" id=\"files-e85c3c7b-26dc-47f1-8928-eba93d7e995f\" name=\"files[]\" multiple disabled\n",
              "        style=\"border:none\" />\n",
              "     <output id=\"result-e85c3c7b-26dc-47f1-8928-eba93d7e995f\">\n",
              "      Upload widget is only available when the cell has been executed in the\n",
              "      current browser session. Please rerun this cell to enable.\n",
              "      </output>\n",
              "      <script src=\"/nbextensions/google.colab/files.js\"></script> "
            ],
            "text/plain": [
              "<IPython.core.display.HTML object>"
            ]
          },
          "metadata": {
            "tags": []
          }
        },
        {
          "output_type": "stream",
          "text": [
            "Saving kaggle.json to kaggle.json\n"
          ],
          "name": "stdout"
        },
        {
          "output_type": "execute_result",
          "data": {
            "text/plain": [
              "{'kaggle.json': b'{\"username\":\"abobakrhusseinsh\",\"key\":\"3ff4770cc1b39d1a54c232e36bfc1277\"}'}"
            ]
          },
          "metadata": {
            "tags": []
          },
          "execution_count": 1
        }
      ]
    },
    {
      "cell_type": "code",
      "metadata": {
        "id": "0SgpWNTGeZME"
      },
      "source": [
        "!mkdir -p ~/.kaggle\r\n",
        "!cp kaggle.json ~/.kaggle/\r\n",
        "!chmod 600 ~/.kaggle/kaggle.json"
      ],
      "execution_count": null,
      "outputs": []
    },
    {
      "cell_type": "code",
      "metadata": {
        "colab": {
          "base_uri": "https://localhost:8080/"
        },
        "id": "pafL7Li0jyXW",
        "outputId": "2dfb1478-07d4-4666-8d46-ea2559978e32"
      },
      "source": [
        "!kaggle datasets download -d tawsifurrahman/covid19-radiography-database"
      ],
      "execution_count": null,
      "outputs": [
        {
          "output_type": "stream",
          "text": [
            "Downloading covid19-radiography-database.zip to /content\n",
            " 98% 1.12G/1.14G [00:08<00:00, 143MB/s]\n",
            "100% 1.14G/1.14G [00:08<00:00, 141MB/s]\n"
          ],
          "name": "stdout"
        }
      ]
    },
    {
      "cell_type": "markdown",
      "metadata": {
        "id": "k_mKxSyy-TdD"
      },
      "source": [
        "## **Extract Images**"
      ]
    },
    {
      "cell_type": "code",
      "metadata": {
        "colab": {
          "base_uri": "https://localhost:8080/"
        },
        "id": "pOveFyw8f49z",
        "outputId": "dec64dda-309b-4f6b-8dce-39b301684669"
      },
      "source": [
        "import zipfile\r\n",
        "file_name = \"covid19-radiography-database.zip\"\r\n",
        "with zipfile.ZipFile(file_name,'r') as zipm:\r\n",
        "  zipm.extractall()\r\n",
        "  print('Done')"
      ],
      "execution_count": null,
      "outputs": [
        {
          "output_type": "stream",
          "text": [
            "Done\n"
          ],
          "name": "stdout"
        }
      ]
    },
    {
      "cell_type": "markdown",
      "metadata": {
        "id": "EDov0CCg-W7X"
      },
      "source": [
        "# ***Imports***"
      ]
    },
    {
      "cell_type": "code",
      "metadata": {
        "id": "XAJFMf_XNahx"
      },
      "source": [
        "############################\r\n",
        "##        Imports         ##\r\n",
        "############################\r\n",
        "import matplotlib.image as mpimg\r\n",
        "from PIL import Image\r\n",
        "import numpy as np\r\n",
        "import shutil\r\n",
        "import matplotlib.pyplot as plt\r\n",
        "\r\n",
        "from keras.layers import Dense\r\n",
        "from tensorflow.keras.optimizers import Adam\r\n",
        "from keras.models import Model\r\n",
        "from keras.optimizers import SGD\r\n",
        "\r\n",
        "from sklearn.model_selection import train_test_split\r\n",
        "import matplotlib.pyplot as plt\r\n",
        "import tensorflow as tf\r\n",
        "import tensorflow_datasets as tfds\r\n",
        "import time\r\n",
        "import sys\r\n",
        "from tensorflow.keras.losses import categorical_crossentropy\r\n",
        "\r\n",
        "from tensorflow.keras import layers\r\n",
        "from tensorflow.keras.datasets import mnist\r\n",
        "from tensorflow.keras.utils import to_categorical\r\n",
        "\r\n",
        "from sklearn.metrics import confusion_matrix\r\n",
        "from sklearn.metrics import precision_score\r\n",
        "from sklearn.metrics import recall_score\r\n",
        "from sklearn.metrics import f1_score\r\n",
        "from sklearn.metrics import accuracy_score\r\n",
        "\r\n",
        "from keras import models\r\n",
        "from keras import layers\r\n",
        "from keras import optimizers\r\n",
        "\r\n",
        "from keras.preprocessing.image import load_img\r\n",
        "from keras.preprocessing.image import img_to_array\r\n",
        "from keras.applications.resnet50 import preprocess_input\r\n",
        "from keras.applications.resnet50 import decode_predictions\r\n",
        "from keras.applications.resnet50 import ResNet50\r\n",
        "\r\n",
        "from keras.applications.vgg16 import VGG16\r\n",
        "from tensorflow.keras.applications.vgg16 import VGG16\r\n",
        "from keras.applications.vgg16 import decode_predictions\r\n",
        "\r\n",
        "from tensorflow.keras.applications.inception_v3 import InceptionV3\r\n",
        "from tensorflow.keras.applications.inception_v3  import preprocess_input\r\n",
        "from tensorflow.keras.applications.inception_v3  import decode_predictions"
      ],
      "execution_count": null,
      "outputs": []
    },
    {
      "cell_type": "markdown",
      "metadata": {
        "id": "bRBsNqVa-gJT"
      },
      "source": [
        "# ***Pathes***"
      ]
    },
    {
      "cell_type": "code",
      "metadata": {
        "id": "OHkkKKxN-fKK"
      },
      "source": [
        "Path_COVID = '/content/COVID-19 Radiography Database/COVID/COVID'\r\n",
        "Path_Normal = '/content/COVID-19 Radiography Database/NORMAL/NORMAL'\r\n",
        "Path_Viral = '/content/COVID-19 Radiography Database/Viral Pneumonia/Viral Pneumonia'"
      ],
      "execution_count": null,
      "outputs": []
    },
    {
      "cell_type": "markdown",
      "metadata": {
        "id": "1YckD9vV_H5b"
      },
      "source": [
        "# ***Initialization & Images Reading***"
      ]
    },
    {
      "cell_type": "code",
      "metadata": {
        "colab": {
          "base_uri": "https://localhost:8080/"
        },
        "id": "rUq27fzPUmKS",
        "outputId": "cdcc20a3-4de9-40b4-e51c-2c6415220ae9"
      },
      "source": [
        "Normal = []                                                                     # Normal Data Array\r\n",
        "COVID = []                                                                      # COVID Data Array\r\n",
        "Viral = []                                                                      # Viral Data Array\r\n",
        "\r\n",
        "# Loop TO Append Data In COVID Array\r\n",
        "for i in range(1,1201):\r\n",
        "  Img = Image.open(Path_COVID+' (' + str(i) + ')' + '.png').resize((256,256)).convert('RGB')\r\n",
        "  COVID.append(np.array(Img))\r\n",
        "\r\n",
        "# Loop TO Append Data In Noraml Array\r\n",
        "for i in range(1,1342):\r\n",
        "  Img = Image.open(Path_Normal+' (' + str(i) + ')' + '.png').resize((256,256)).convert('RGB')\r\n",
        "  Normal.append(np.array(Img))\r\n",
        "\r\n",
        "# Loop TO Append Data In Viral Array\r\n",
        "for i in range(1,1346):\r\n",
        "  Img = Image.open(Path_Viral+' (' + str(i) + ')' + '.png').resize((256,256)).convert('RGB')\r\n",
        "  Viral.append(np.array(Img))\r\n",
        "\r\n",
        "COVID = np.array(COVID)\r\n",
        "Normal = np.array(Normal)\r\n",
        "Viral = np.array(Viral)\r\n",
        "\r\n",
        "print(\"Done\")\r\n"
      ],
      "execution_count": null,
      "outputs": [
        {
          "output_type": "stream",
          "text": [
            "Done\n"
          ],
          "name": "stdout"
        }
      ]
    },
    {
      "cell_type": "code",
      "metadata": {
        "colab": {
          "base_uri": "https://localhost:8080/"
        },
        "id": "fygnldRbumEB",
        "outputId": "9291f87b-2a61-46cd-c885-b7aa49a2b1f2"
      },
      "source": [
        "print(COVID.shape)\r\n",
        "print(Normal.shape)\r\n",
        "print(Viral.shape)"
      ],
      "execution_count": null,
      "outputs": [
        {
          "output_type": "stream",
          "text": [
            "(1200, 256, 256, 3)\n",
            "(1341, 256, 256, 3)\n",
            "(1345, 256, 256, 3)\n"
          ],
          "name": "stdout"
        }
      ]
    },
    {
      "cell_type": "code",
      "metadata": {
        "id": "wwNftiPVX7E9"
      },
      "source": [
        "Augmentation_flag=0"
      ],
      "execution_count": null,
      "outputs": []
    },
    {
      "cell_type": "markdown",
      "metadata": {
        "id": "0eAAnwir_YJE"
      },
      "source": [
        "# ***Augmentation***"
      ]
    },
    {
      "cell_type": "code",
      "metadata": {
        "id": "yCnjTkqYfsCe"
      },
      "source": [
        "Augmentation_flag=1\r\n",
        "data_augmentation = tf.keras.Sequential([\r\n",
        "  layers.experimental.preprocessing.RandomFlip(\"horizontal_and_vertical\"), \r\n",
        "  layers.experimental.preprocessing.RandomRotation(0.35),\r\n",
        "  # layers.experimental.SyncBatchNormalization([0.485, 0.456, 0.406], [0.229, 0.224, 0.225]),\r\n",
        "]) "
      ],
      "execution_count": null,
      "outputs": []
    },
    {
      "cell_type": "markdown",
      "metadata": {
        "id": "aBOpJNZrAEfz"
      },
      "source": [
        "## **Covid Augmentation**"
      ]
    },
    {
      "cell_type": "code",
      "metadata": {
        "id": "5pa1LCBtALKK"
      },
      "source": [
        "augmented_images=[]                                                             # COVID Augmented Images Array\r\n",
        "\r\n",
        "for image in COVID :\r\n",
        "  #increate dims becease data_agu accetps 4D\r\n",
        "  image = tf.expand_dims(tf.constant(image), 0)                               \r\n",
        "  augmented_image= data_augmentation(image)                                   # Call Augmentation Class\r\n",
        "  augmented_image=np.array(augmented_image).reshape((256, 256, 3))\r\n",
        "  augmented_images.append(augmented_image)\r\n",
        "\r\n",
        "# Concatenate Merge With No Error in Shape\r\n",
        "COVID=np.concatenate((COVID,np.array(augmented_images)))                        "
      ],
      "execution_count": null,
      "outputs": []
    },
    {
      "cell_type": "code",
      "metadata": {
        "colab": {
          "base_uri": "https://localhost:8080/"
        },
        "id": "i4hnDKUvxUs2",
        "outputId": "48d66562-3973-403a-e5fd-73fcd4f70925"
      },
      "source": [
        "COVID.shape"
      ],
      "execution_count": null,
      "outputs": [
        {
          "output_type": "execute_result",
          "data": {
            "text/plain": [
              "(2400, 256, 256, 3)"
            ]
          },
          "metadata": {
            "tags": []
          },
          "execution_count": 12
        }
      ]
    },
    {
      "cell_type": "markdown",
      "metadata": {
        "id": "bmR3nTbuFif4"
      },
      "source": [
        "## **Normal Augmentation**"
      ]
    },
    {
      "cell_type": "code",
      "metadata": {
        "id": "GgvNGr80BNDB"
      },
      "source": [
        "augmented_images=[]                                                             # Noraml Augmented Images Array\r\n",
        "\r\n",
        "for image in Normal :\r\n",
        "  #increate dims becease data_agu accetps 4D\r\n",
        "  image = tf.expand_dims(tf.constant(image), 0)    \r\n",
        "  augmented_image= data_augmentation( image )                                   # Call Augmentation Class\r\n",
        "  augmented_image=np.array(augmented_image).reshape((256, 256, 3))\r\n",
        "  augmented_images.append(augmented_image)\r\n",
        "\r\n",
        "# Concatenate Merge With No Error in Shape\r\n",
        "Normal=np.concatenate((Normal,np.array(augmented_images))) "
      ],
      "execution_count": null,
      "outputs": []
    },
    {
      "cell_type": "code",
      "metadata": {
        "colab": {
          "base_uri": "https://localhost:8080/"
        },
        "id": "DOfOLnnDxiVL",
        "outputId": "3242d5d0-943e-4931-c8b3-bf1bbfd5a443"
      },
      "source": [
        "print(COVID.shape)\r\n",
        "print(Normal.shape)\r\n",
        "print(Viral.shape)"
      ],
      "execution_count": null,
      "outputs": [
        {
          "output_type": "stream",
          "text": [
            "(2400, 256, 256, 3)\n",
            "(2682, 256, 256, 3)\n",
            "(1345, 256, 256, 3)\n"
          ],
          "name": "stdout"
        }
      ]
    },
    {
      "cell_type": "markdown",
      "metadata": {
        "id": "N1Vd85LIF0OE"
      },
      "source": [
        "## **Viral Augmentation**"
      ]
    },
    {
      "cell_type": "code",
      "metadata": {
        "id": "qMxqGOlNGV5Y"
      },
      "source": [
        "augmented_images=[]                                                             # Viral Augmented Images Array\r\n",
        "\r\n",
        "for image in Viral :\r\n",
        "  #increate dims becease data_agu accetps 4D\r\n",
        "  image = tf.expand_dims(tf.constant(image), 0)  \r\n",
        "  augmented_image= data_augmentation( image )                                   # Call Augmentation Class\r\n",
        "  augmented_image=np.array(augmented_image).reshape((256, 256, 3))\r\n",
        "  augmented_images.append(augmented_image)\r\n",
        "\r\n",
        "# Concatenate Merge With No Error in Shape\r\n",
        "Viral=np.concatenate((Viral,np.array(augmented_images))) "
      ],
      "execution_count": null,
      "outputs": []
    },
    {
      "cell_type": "code",
      "metadata": {
        "colab": {
          "base_uri": "https://localhost:8080/"
        },
        "id": "SodbXt2wxymA",
        "outputId": "afa10a30-3439-4e9c-b064-d30878609b84"
      },
      "source": [
        "Viral.shape"
      ],
      "execution_count": null,
      "outputs": [
        {
          "output_type": "execute_result",
          "data": {
            "text/plain": [
              "(2690, 256, 256, 3)"
            ]
          },
          "metadata": {
            "tags": []
          },
          "execution_count": 16
        }
      ]
    },
    {
      "cell_type": "code",
      "metadata": {
        "colab": {
          "base_uri": "https://localhost:8080/"
        },
        "id": "JAHHvlIOPuZx",
        "outputId": "0ce49d3e-3683-4e6e-eb06-e941cc13748a"
      },
      "source": [
        "print(COVID.shape)\r\n",
        "print(Normal.shape)\r\n",
        "print(Viral.shape)"
      ],
      "execution_count": null,
      "outputs": [
        {
          "output_type": "stream",
          "text": [
            "(1200, 256, 256, 3)\n",
            "(1341, 256, 256, 3)\n",
            "(1345, 256, 256, 3)\n"
          ],
          "name": "stdout"
        }
      ]
    },
    {
      "cell_type": "markdown",
      "metadata": {
        "id": "QwYIaSvkI0nQ"
      },
      "source": [
        "# ***Constructing Labels & Dataset Arrays***"
      ]
    },
    {
      "cell_type": "markdown",
      "metadata": {
        "id": "13fpmJ7RXWfB"
      },
      "source": [
        "Warning!!! run this cell if aumgmentation is true : run next cell ,else : skip"
      ]
    },
    {
      "cell_type": "code",
      "metadata": {
        "id": "AdGtUOr2IJ5y"
      },
      "source": [
        "Dataset = np.concatenate((COVID[0:2399],Normal[0:2399],Viral[0:2399]))"
      ],
      "execution_count": null,
      "outputs": []
    },
    {
      "cell_type": "code",
      "metadata": {
        "id": "ZC5L_1fIywEL"
      },
      "source": [
        "Dataset = np.concatenate((COVID,Normal,Viral))"
      ],
      "execution_count": null,
      "outputs": []
    },
    {
      "cell_type": "code",
      "metadata": {
        "id": "PmC2sNqtcdGu"
      },
      "source": [
        "Dataset=[]"
      ],
      "execution_count": null,
      "outputs": []
    },
    {
      "cell_type": "code",
      "metadata": {
        "colab": {
          "base_uri": "https://localhost:8080/"
        },
        "id": "Un0hFchNNeEk",
        "outputId": "59a62a5f-6772-4afd-bd71-2180ce106116"
      },
      "source": [
        "Dataset.shape"
      ],
      "execution_count": null,
      "outputs": [
        {
          "output_type": "execute_result",
          "data": {
            "text/plain": [
              "(3886, 256, 256, 3)"
            ]
          },
          "metadata": {
            "tags": []
          },
          "execution_count": 12
        }
      ]
    },
    {
      "cell_type": "markdown",
      "metadata": {
        "id": "BN3MWg18ht3L"
      },
      "source": [
        "Warning!!! run this cell if aumgmentation is true : run next cell ,else : skip"
      ]
    },
    {
      "cell_type": "code",
      "metadata": {
        "id": "-9ijAhtYJlad"
      },
      "source": [
        "##############################\r\n",
        "##       ############       ##\r\n",
        "##       ## Labels ##       ##\r\n",
        "##       ############       ##\r\n",
        "##    COVID_Label  =>  1    ##\r\n",
        "##    NORMAL_Label =>  0    ##\r\n",
        "##    VIRAL_Label  => -1    ##   \r\n",
        "##############################\r\n",
        "\r\n",
        "Covidlabel = np.full((len(COVID[0:2399]),1), 1)\r\n",
        "Normallabel=np.full((len(Normal[0:2399]),1), 0)\r\n",
        "Virallabel=np.full((len(Viral[0:2399]),1),-1)\r\n",
        "\r\n",
        "Y = np.concatenate((Covidlabel,Normallabel,Virallabel))                         # Y is Array of Labels\r\n"
      ],
      "execution_count": null,
      "outputs": []
    },
    {
      "cell_type": "code",
      "metadata": {
        "id": "2xhDxHEqzsoO"
      },
      "source": [
        "##############################\r\n",
        "##       ############       ##\r\n",
        "##       ## Labels ##       ##\r\n",
        "##       ############       ##\r\n",
        "##    COVID_Label  =>  1    ##\r\n",
        "##    NORMAL_Label =>  0    ##\r\n",
        "##    VIRAL_Label  => -1    ##   \r\n",
        "##############################\r\n",
        "\r\n",
        "Covidlabel = np.full((len(COVID),1), 1)\r\n",
        "Normallabel=np.full((len(Normal),1), 0)\r\n",
        "Virallabel=np.full((len(Viral),1),-1)\r\n",
        "Y = np.concatenate((Covidlabel,Normallabel,Virallabel)) "
      ],
      "execution_count": null,
      "outputs": []
    },
    {
      "cell_type": "code",
      "metadata": {
        "colab": {
          "base_uri": "https://localhost:8080/"
        },
        "id": "3aUmU26CzMeR",
        "outputId": "da6f9b05-4933-42cb-e66a-65dade9967e9"
      },
      "source": [
        "print(Y.shape)\r\n",
        "print(Dataset.shape)"
      ],
      "execution_count": null,
      "outputs": [
        {
          "output_type": "stream",
          "text": [
            "(3886, 1)\n",
            "(3886, 256, 256, 3)\n"
          ],
          "name": "stdout"
        }
      ]
    },
    {
      "cell_type": "markdown",
      "metadata": {
        "id": "qs78s96Tmzfz"
      },
      "source": [
        "# ***Splitting and Categorization***"
      ]
    },
    {
      "cell_type": "markdown",
      "metadata": {
        "id": "7spW3iism-HG"
      },
      "source": [
        "## **Spilt** "
      ]
    },
    {
      "cell_type": "code",
      "metadata": {
        "id": "SSte_Xn8a-Xo"
      },
      "source": [
        "#################################\r\n",
        "##      Splitting Dataset      ##\r\n",
        "#################################\r\n",
        "x_train, x_test, y_train, y_test = train_test_split(Dataset,Y , test_size=0.3,random_state=40, stratify=Y)\r\n",
        "x_train, x_val, y_train, y_val= train_test_split(x_train,y_train, test_size=0.2, random_state=1,stratify=y_train)\r\n",
        "\r\n",
        "# Convert To Numpy Array\r\n",
        "trainX= np.array(x_train)\r\n",
        "testX = np.array(x_test)\r\n",
        "trainY= np.array(y_train)\r\n",
        "testY = np.array(y_test)\r\n",
        "valX=np.array(x_val)\r\n",
        "valY=np.array(y_val)"
      ],
      "execution_count": null,
      "outputs": []
    },
    {
      "cell_type": "markdown",
      "metadata": {
        "id": "b5gqHf6Anexc"
      },
      "source": [
        "## **Categorization (Labels' Encodeing )**"
      ]
    },
    {
      "cell_type": "code",
      "metadata": {
        "id": "2hfEmchBP3sp"
      },
      "source": [
        "trainY = to_categorical(trainY, 3)                                              # Categorize Labels Training Array \r\n",
        "testY = to_categorical(testY, 3)                                                # Categorize Labels Testing Array \r\n",
        "valY=to_categorical(valY, 3) "
      ],
      "execution_count": null,
      "outputs": []
    },
    {
      "cell_type": "markdown",
      "metadata": {
        "id": "NXEJz8feOoJy"
      },
      "source": [
        "## **Normalization** "
      ]
    },
    {
      "cell_type": "code",
      "metadata": {
        "id": "jQke7MOxOrSW"
      },
      "source": [
        "trainX = trainX.astype(\"float32\")/ 255.0                                       # Normalize Labels Training Array \r\n",
        "testX = testX.astype(\"float32\") / 255.0                                         # Normalize Labels Testing Array \r\n",
        "valX = valX.astype(\"float32\") / 255.0 "
      ],
      "execution_count": null,
      "outputs": []
    },
    {
      "cell_type": "code",
      "metadata": {
        "colab": {
          "base_uri": "https://localhost:8080/"
        },
        "id": "ZvJRGztsbYrD",
        "outputId": "2a8fc8af-d5c0-464a-b890-6a01e409f74c"
      },
      "source": [
        "print(trainX.shape)\r\n",
        "print(testX.shape)\r\n",
        "print(valX.shape)"
      ],
      "execution_count": null,
      "outputs": [
        {
          "output_type": "stream",
          "text": [
            "(2176, 256, 256, 3)\n",
            "(1166, 256, 256, 3)\n",
            "(544, 256, 256, 3)\n"
          ],
          "name": "stdout"
        }
      ]
    },
    {
      "cell_type": "markdown",
      "metadata": {
        "id": "MUY4urlGL32y"
      },
      "source": [
        "# ***Training loop***"
      ]
    },
    {
      "cell_type": "markdown",
      "metadata": {
        "id": "dFtYLpXDxHdB"
      },
      "source": [
        "## **HyperParameters** "
      ]
    },
    {
      "cell_type": "code",
      "metadata": {
        "id": "2SRG_BhTxG75"
      },
      "source": [
        "EPOCHS =  10                                                                    # Epochs\r\n",
        "BS = 64                                                                         # Batch Size\r\n",
        "INIT_LR = 1e-3                                                                  # Learning Rate"
      ],
      "execution_count": null,
      "outputs": []
    },
    {
      "cell_type": "markdown",
      "metadata": {
        "id": "NlvDseIuPoJV"
      },
      "source": [
        "## **Step Function**"
      ]
    },
    {
      "cell_type": "code",
      "metadata": {
        "id": "fLIFT4RIOie8"
      },
      "source": [
        "def step(model,x, y,optimizer):\r\n",
        "# keep track of our gradients\r\n",
        "  with tf.GradientTape() as tape:\r\n",
        "    # make a prediction using the model and then calculate the loss\r\n",
        "    pred = model(x)\r\n",
        "    loss = categorical_crossentropy(y, pred)\r\n",
        "    \r\n",
        "  # calculate the gradients using our tape and then update the model weights\r\n",
        "  grads = tape.gradient(loss,model.trainable_variables)\r\n",
        "  optimizer.apply_gradients(zip(grads,model.trainable_variables))\r\n",
        "  \r\n",
        "  return loss  "
      ],
      "execution_count": null,
      "outputs": []
    },
    {
      "cell_type": "markdown",
      "metadata": {
        "id": "hEYkXgzMwfQV"
      },
      "source": [
        "## **Main Training Function**"
      ]
    },
    {
      "cell_type": "code",
      "metadata": {
        "id": "ND4dYkXDWHbb"
      },
      "source": [
        "def trainingloop(model,trainX,trainY,numbrofbatches,EPOCHS,optimizer) :\r\n",
        "  numUpdates = int(trainX.shape[0] / numbrofbatches) #1\r\n",
        "  history_validation_accuracy=[]\r\n",
        "  history_training_accuracy=[]\r\n",
        "\r\n",
        "\r\n",
        "  # loop over the number of epochs\r\n",
        "  for epoch in range(0, EPOCHS):\r\n",
        "    epoch_loss_avg = tf.keras.metrics.Mean()\r\n",
        "    epoch_accuracy = []\r\n",
        "\r\n",
        "    # show the current epoch number\r\n",
        "    print(\"[INFO] starting epoch {}/{}...\".format( epoch + 1, EPOCHS), end=\"\")\r\n",
        "    sys.stdout.flush()\r\n",
        "    epochStart = time.time()\r\n",
        "    model.predict(testX)\r\n",
        "\r\n",
        "    # loop over the data in batch size increments\r\n",
        "    for i in range(0, numUpdates):\r\n",
        "      # determine starting and ending slice indexes for the current batch\r\n",
        "      start = i * numbrofbatches\r\n",
        "      end = start + numbrofbatches\r\n",
        "\r\n",
        "      # take a step\r\n",
        "      loss=step(model,trainX[start:end], trainY[start:end],optimizer)#5\r\n",
        "      epoch_loss_avg.update_state(loss)\r\n",
        "      y_pred=model.predict(trainX[start:end])\r\n",
        "\r\n",
        "      y_pred = np.argmax(y_pred, axis=1)\r\n",
        "      y_true=np.argmax(trainY[start:end], axis=1)\r\n",
        "      epoch_accuracy.append(accuracy_score(y_true, y_pred)) \r\n",
        "      \r\n",
        "    \r\n",
        "    averarge_train_acc=np.mean(np.array(epoch_accuracy))\r\n",
        "    history_training_accuracy.append(averarge_train_acc)\r\n",
        "    \r\n",
        "    \r\n",
        "    print(\"Epoch {:03d}: Loss: {:.3f}, accuracy {}\".format(epoch, epoch_loss_avg.result(),averarge_train_acc))\r\n",
        "    \r\n",
        "    history_validation_accuracy.append(accuracyvalidation(model,valX,valY))\r\n",
        "    epochEnd = time.time()\r\n",
        "    del epoch_accuracy\r\n",
        "    elapsed = (epochEnd - epochStart) / 60.0\r\n",
        "    print(\"took {:.4} minutes\".format(elapsed))\r\n",
        "  return history_validation_accuracy,history_training_accuracy\r\n"
      ],
      "execution_count": null,
      "outputs": []
    },
    {
      "cell_type": "markdown",
      "metadata": {
        "id": "ZgaiQWTAwlGg"
      },
      "source": [
        "# ***Testing***"
      ]
    },
    {
      "cell_type": "code",
      "metadata": {
        "id": "cmEtzyLJgBCi"
      },
      "source": [
        "def testing (modelx,testX,testY):        \r\n",
        "  (loss, acc) =  modelx.evaluate(testX, testY)\r\n",
        "  print(\"[INFO] test accuracy: {:.4f}\".format(acc))"
      ],
      "execution_count": null,
      "outputs": []
    },
    {
      "cell_type": "markdown",
      "metadata": {
        "id": "EUYUSFaiwqWD"
      },
      "source": [
        "## **Reporting Model Performance**"
      ]
    },
    {
      "cell_type": "code",
      "metadata": {
        "id": "-zuGIT8c4y1N"
      },
      "source": [
        "def report_yourmoder(model,testX,testY) : \r\n",
        "  y_pred=model.predict(testX)\r\n",
        "  y_pred = np.argmax(y_pred, axis=1)\r\n",
        "  Ytrue=np.argmax(testY, axis=1)\r\n",
        "  Conmat=confusion_matrix(Ytrue, y_pred)\r\n",
        "\r\n",
        "  print(\"===================================\")\r\n",
        "  print(\"confunsion matrix is \\n {} {} {} \\n {} {} {} \\n {} {} {} \".format(Conmat[0][0],Conmat[0][1],Conmat[0][2],Conmat[1][0],Conmat[1][1],Conmat[1][2],Conmat[2][0],Conmat[2][1],Conmat[2][2]))\r\n",
        "  print(\"===================================\")\r\n",
        "\r\n",
        "  precision=precision_score(Ytrue, y_pred, average=None)\r\n",
        "  print(\"===================================\")\r\n",
        "  print(\"precision is \\nclass0:{:.2f} % \\nclass1:{:.2f} % \\nclass2:{:.2f} % \\n\".format(precision[0]*100,precision[1]*100,precision[2]*100))\r\n",
        "  print(\"===================================\")\r\n",
        "  recall=recall_score(Ytrue, y_pred, average=None)\r\n",
        "\r\n",
        "  print(\"===================================\")\r\n",
        "  print(\"recall is \\nclass0:{:.2f} % \\nclass1:{:.2f} % \\nclass2:{:.2f} % \\n\".format(recall[0]*100,recall[1]*100,recall[2]*100))\r\n",
        "  print(\"===================================\")\r\n",
        "  f1=f1_score(Ytrue, y_pred, average=None)\r\n",
        "  print(\"===================================\")\r\n",
        "  print(\"f1 is \\nclass0:{:.2f} % \\nclass1:{:.2f} % \\nclass2:{:.2f} % \\n\".format( f1[0]*100, f1[1]*100, f1[2]*100))\r\n",
        "  print(\"===================================\")\r\n",
        "  \r\n",
        "  print(\"===================================\")\r\n",
        "  print(\"accuracy is \\nclass0:{:.2f}\".format(accuracy_score(Ytrue, y_pred)))\r\n",
        "  print(\"===================================\")"
      ],
      "execution_count": null,
      "outputs": []
    },
    {
      "cell_type": "code",
      "metadata": {
        "id": "6jL2Q9RoGux6"
      },
      "source": [
        "import matplotlib.pyplot as plt\r\n",
        "\r\n",
        "def plotvalidationandTraining(numofepoeh,training,testing) :\r\n",
        "  x1 = np.arange(numofepoeh+1)\r\n",
        "  fig = plt.figure()\r\n",
        "  ax = fig.add_axes([0,0,1,1])\r\n",
        "  \r\n",
        "  training.insert(0,0)\r\n",
        "  testing.insert(0,0)\r\n",
        "\r\n",
        "  l1 = ax.plot(x1,training,'y.-') # solid line with yellow colour and square marker\r\n",
        "  l2 = ax.plot(x1,testing,'g.-') # dash line with green colour and circle marker\r\n",
        "  ax.legend(labels = ('train', 'validation'), loc = 'lower right') # legend placed at lower right\r\n",
        "  ax.set_title(\"comparison between testing and validation accuracy\")\r\n",
        "  plt.ylim(0, 1)\r\n",
        "  plt.ylim(ymin=0) \r\n",
        "  ax.set_xlabel('epoch')\r\n",
        "  ax.set_ylabel('accuracy')\r\n",
        "  plt.show()\r\n",
        "  del training\r\n",
        "  del testing"
      ],
      "execution_count": null,
      "outputs": []
    },
    {
      "cell_type": "code",
      "metadata": {
        "id": "P-eBJ3E-evN_"
      },
      "source": [
        "def accuracyvalidation(model,testX,testY) : \r\n",
        "  y_pred=model.predict(testX)\r\n",
        "  y_pred = np.argmax(y_pred, axis=1)\r\n",
        "  Ytrue=np.argmax(testY, axis=1)\r\n",
        "  accuracy=accuracy_score(Ytrue, y_pred) \r\n",
        "\r\n",
        "  print(\"validation accuracy is {:.4f}\\n\".format( accuracy))\r\n",
        "  return accuracy\r\n"
      ],
      "execution_count": null,
      "outputs": []
    },
    {
      "cell_type": "markdown",
      "metadata": {
        "id": "QrBUSM-OO7Yy"
      },
      "source": [
        "# ***Basic Models*** "
      ]
    },
    {
      "cell_type": "markdown",
      "metadata": {
        "id": "jlZDDvQHPMHZ"
      },
      "source": [
        "## **CNN Few Layers Model**"
      ]
    },
    {
      "cell_type": "markdown",
      "metadata": {
        "id": "xcKTJqZM0X-g"
      },
      "source": [
        "### **Layers**"
      ]
    },
    {
      "cell_type": "code",
      "metadata": {
        "id": "ipCl2UZz2_6F",
        "colab": {
          "base_uri": "https://localhost:8080/"
        },
        "outputId": "c45d69a7-5e2d-4169-e037-534a8534ff4e"
      },
      "source": [
        "cnn_model_fewlayer=  models.Sequential()\r\n",
        "\r\n",
        "cnn_model_fewlayer.add(layers.Conv2D(32, (3, 3), input_shape=(256,256,3)))\r\n",
        "cnn_model_fewlayer.add(layers.Activation('relu'))\r\n",
        "cnn_model_fewlayer.add(layers.MaxPooling2D(pool_size=(2, 2)))\r\n",
        "\r\n",
        "cnn_model_fewlayer.add(layers.Conv2D(128, (3, 3)))\r\n",
        "cnn_model_fewlayer.add(layers.Activation('relu'))\r\n",
        "cnn_model_fewlayer.add(layers.MaxPooling2D(pool_size=(2, 2)))\r\n",
        "\r\n",
        "# Fully Connected Layer\r\n",
        "cnn_model_fewlayer.add(layers.Flatten())\r\n",
        "cnn_model_fewlayer.add(layers.Dense(64))\r\n",
        "cnn_model_fewlayer.add(layers.Activation('relu'))\r\n",
        "\r\n",
        "cnn_model_fewlayer.add(layers.Dense(512))\r\n",
        "cnn_model_fewlayer.add(layers.Activation('relu'))\r\n",
        "cnn_model_fewlayer.add(layers.Dropout(0.3))\r\n",
        "cnn_model_fewlayer.add(layers.Dense(3))\r\n",
        "cnn_model_fewlayer.add(layers.Activation('softmax'))\r\n",
        "\r\n",
        "for layer in cnn_model_fewlayer.layers:\r\n",
        "    layer.trainable = True\r\n",
        "cnn_model_fewlayer.summary()\r\n"
      ],
      "execution_count": null,
      "outputs": [
        {
          "output_type": "stream",
          "text": [
            "Model: \"sequential_1\"\n",
            "_________________________________________________________________\n",
            "Layer (type)                 Output Shape              Param #   \n",
            "=================================================================\n",
            "conv2d (Conv2D)              (None, 254, 254, 32)      896       \n",
            "_________________________________________________________________\n",
            "activation (Activation)      (None, 254, 254, 32)      0         \n",
            "_________________________________________________________________\n",
            "max_pooling2d (MaxPooling2D) (None, 127, 127, 32)      0         \n",
            "_________________________________________________________________\n",
            "conv2d_1 (Conv2D)            (None, 125, 125, 128)     36992     \n",
            "_________________________________________________________________\n",
            "activation_1 (Activation)    (None, 125, 125, 128)     0         \n",
            "_________________________________________________________________\n",
            "max_pooling2d_1 (MaxPooling2 (None, 62, 62, 128)       0         \n",
            "_________________________________________________________________\n",
            "flatten (Flatten)            (None, 492032)            0         \n",
            "_________________________________________________________________\n",
            "dense (Dense)                (None, 64)                31490112  \n",
            "_________________________________________________________________\n",
            "activation_2 (Activation)    (None, 64)                0         \n",
            "_________________________________________________________________\n",
            "dense_1 (Dense)              (None, 512)               33280     \n",
            "_________________________________________________________________\n",
            "activation_3 (Activation)    (None, 512)               0         \n",
            "_________________________________________________________________\n",
            "dropout (Dropout)            (None, 512)               0         \n",
            "_________________________________________________________________\n",
            "dense_2 (Dense)              (None, 3)                 1539      \n",
            "_________________________________________________________________\n",
            "activation_4 (Activation)    (None, 3)                 0         \n",
            "=================================================================\n",
            "Total params: 31,562,819\n",
            "Trainable params: 31,562,819\n",
            "Non-trainable params: 0\n",
            "_________________________________________________________________\n"
          ],
          "name": "stdout"
        }
      ]
    },
    {
      "cell_type": "markdown",
      "metadata": {
        "id": "FoPfTx68YLTD"
      },
      "source": [
        "### **With Augmentation**"
      ]
    },
    {
      "cell_type": "code",
      "metadata": {
        "id": "hrquqapydriG"
      },
      "source": [
        "epoch=10\r\n",
        "optfew = Adam(lr=INIT_LR, decay=INIT_LR / epoch)\r\n",
        "cnn_model_fewlayer.compile(optimizer=optfew, loss=categorical_crossentropy, metrics=[\"acc\"])"
      ],
      "execution_count": null,
      "outputs": []
    },
    {
      "cell_type": "code",
      "metadata": {
        "id": "BdeYqnBLpPE8",
        "colab": {
          "base_uri": "https://localhost:8080/"
        },
        "outputId": "2393197b-f0e2-418c-ec21-c972b835405c"
      },
      "source": [
        "history_validation_accuracy,history_training_accuracy=trainingloop(cnn_model_fewlayer,trainX,trainY,128,epoch,optfew)"
      ],
      "execution_count": null,
      "outputs": [
        {
          "output_type": "stream",
          "text": [
            "[INFO] starting epoch 1/10...Epoch 000: Loss: 131.578, accuracy 0.5660282258064516\n",
            "validation accuracy is 0.7450\n",
            "\n",
            "took 0.3042 minutes\n",
            "[INFO] starting epoch 2/10...Epoch 001: Loss: 0.423, accuracy 0.8805443548387096\n",
            "validation accuracy is 0.8849\n",
            "\n",
            "took 0.1818 minutes\n",
            "[INFO] starting epoch 3/10...Epoch 002: Loss: 0.175, accuracy 0.9644657258064516\n",
            "validation accuracy is 0.8661\n",
            "\n",
            "took 0.1816 minutes\n",
            "[INFO] starting epoch 4/10...Epoch 003: Loss: 0.078, accuracy 0.9899193548387096\n",
            "validation accuracy is 0.8819\n",
            "\n",
            "took 0.1814 minutes\n",
            "[INFO] starting epoch 5/10...Epoch 004: Loss: 0.028, accuracy 0.9967237903225806\n",
            "validation accuracy is 0.8720\n",
            "\n",
            "took 0.1815 minutes\n",
            "[INFO] starting epoch 6/10...Epoch 005: Loss: 0.012, accuracy 0.9987399193548387\n",
            "validation accuracy is 0.8790\n",
            "\n",
            "took 0.1815 minutes\n",
            "[INFO] starting epoch 7/10...Epoch 006: Loss: 0.015, accuracy 0.9994959677419355\n",
            "validation accuracy is 0.9048\n",
            "\n",
            "took 0.1815 minutes\n",
            "[INFO] starting epoch 8/10...Epoch 007: Loss: 0.038, accuracy 0.9987399193548387\n",
            "validation accuracy is 0.9028\n",
            "\n",
            "took 0.1817 minutes\n",
            "[INFO] starting epoch 9/10...Epoch 008: Loss: 0.039, accuracy 0.9964717741935484\n",
            "validation accuracy is 0.8800\n",
            "\n",
            "took 0.1813 minutes\n",
            "[INFO] starting epoch 10/10...Epoch 009: Loss: 0.039, accuracy 0.9974798387096774\n",
            "validation accuracy is 0.8810\n",
            "\n",
            "took 0.1814 minutes\n"
          ],
          "name": "stdout"
        }
      ]
    },
    {
      "cell_type": "markdown",
      "metadata": {
        "id": "sU7zg6NE9OVv"
      },
      "source": [
        "#### **Test Acurracy**"
      ]
    },
    {
      "cell_type": "code",
      "metadata": {
        "id": "w18PEafEWlGZ",
        "colab": {
          "base_uri": "https://localhost:8080/"
        },
        "outputId": "455afd49-8268-4237-cb40-85f49b5d9a42"
      },
      "source": [
        "# cnn_model_fewlayer.evaluate(valX,valY)\r\n",
        "cnn_model_fewlayer.evaluate(testX,testY)"
      ],
      "execution_count": null,
      "outputs": [
        {
          "output_type": "stream",
          "text": [
            "68/68 [==============================] - 1s 13ms/step - loss: 0.8994 - acc: 0.8575\n"
          ],
          "name": "stdout"
        },
        {
          "output_type": "execute_result",
          "data": {
            "text/plain": [
              "[0.8357101082801819, 0.8615740537643433]"
            ]
          },
          "metadata": {
            "tags": []
          },
          "execution_count": 35
        }
      ]
    },
    {
      "cell_type": "code",
      "metadata": {
        "colab": {
          "base_uri": "https://localhost:8080/",
          "height": 384
        },
        "id": "WYm7pOgw5rGD",
        "outputId": "ce8a0f39-0577-4f78-cf1b-7560cc20f2c0"
      },
      "source": [
        "plotvalidationandTraining(10,history_training_accuracy,history_validation_accuracy)\r\n",
        "history_validation_accuracy.pop(0)\r\n",
        "history_training_accuracy.pop(0)"
      ],
      "execution_count": null,
      "outputs": [
        {
          "output_type": "display_data",
          "data": {
            "image/png": "[encoded data removed]",
            "text/plain": [
              "<Figure size 432x288 with 1 Axes>"
            ]
          },
          "metadata": {
            "tags": [],
            "needs_background": "light"
          }
        },
        {
          "output_type": "execute_result",
          "data": {
            "text/plain": [
              "0"
            ]
          },
          "metadata": {
            "tags": []
          },
          "execution_count": 36
        }
      ]
    },
    {
      "cell_type": "markdown",
      "metadata": {
        "id": "ZCe04IS-5kID"
      },
      "source": [
        "#### **Report** "
      ]
    },
    {
      "cell_type": "code",
      "metadata": {
        "id": "Xl1q9UwSn-Op",
        "colab": {
          "base_uri": "https://localhost:8080/"
        },
        "outputId": "511d70a2-a227-44e3-c24a-c552c9eda0d9"
      },
      "source": [
        "report_yourmoder(cnn_model_fewlayer,testX,testY) \r\n",
        "del optfew \r\n",
        "del cnn_model_fewlayer\r\n",
        "del history_training_accuracy\r\n",
        "del history_validation_accuracy\r\n",
        "print(\"done\")"
      ],
      "execution_count": null,
      "outputs": [
        {
          "output_type": "stream",
          "text": [
            "===================================\n",
            "confunsion matrix is \n",
            " 617 9 94 \n",
            " 44 602 74 \n",
            " 59 19 642 \n",
            "===================================\n",
            "===================================\n",
            "precision is \n",
            "class0:85.69 % \n",
            "class1:95.56 % \n",
            "class2:79.26 % \n",
            "\n",
            "===================================\n",
            "===================================\n",
            "recall is \n",
            "class0:85.69 % \n",
            "class1:83.61 % \n",
            "class2:89.17 % \n",
            "\n",
            "===================================\n",
            "===================================\n",
            "f1 is \n",
            "class0:85.69 % \n",
            "class1:89.19 % \n",
            "class2:83.92 % \n",
            "\n",
            "===================================\n",
            "===================================\n",
            "accuracy is \n",
            "class0:0.86\n",
            "===================================\n",
            "done\n"
          ],
          "name": "stdout"
        }
      ]
    },
    {
      "cell_type": "markdown",
      "metadata": {
        "id": "BH0er63bY5Gw"
      },
      "source": [
        "### **Without Augmentation**"
      ]
    },
    {
      "cell_type": "code",
      "metadata": {
        "id": "-BaN9JR0d2KT"
      },
      "source": [
        "epoch=10\r\n",
        "optfew = Adam(lr=INIT_LR, decay=INIT_LR / epoch)\r\n",
        "cnn_model_fewlayer.compile(optimizer=optfew, loss=categorical_crossentropy, metrics=[\"acc\"])"
      ],
      "execution_count": null,
      "outputs": []
    },
    {
      "cell_type": "code",
      "metadata": {
        "id": "BAMAeqj_Y5Gx",
        "colab": {
          "base_uri": "https://localhost:8080/"
        },
        "outputId": "44ccfcc1-db10-4fea-ad3a-b209eeda5e54"
      },
      "source": [
        "history_validation_accuracy,history_training_accuracy=trainingloop(cnn_model_fewlayer,trainX,trainY,128,epoch,optfew)"
      ],
      "execution_count": null,
      "outputs": [
        {
          "output_type": "stream",
          "text": [
            "[INFO] starting epoch 1/10...Epoch 000: Loss: 1.602, accuracy 0.6364889705882353\n",
            "validation accuracy is 0.8621\n",
            "\n",
            "took 0.1825 minutes\n",
            "[INFO] starting epoch 2/10...Epoch 001: Loss: 0.319, accuracy 0.8915441176470589\n",
            "validation accuracy is 0.9246\n",
            "\n",
            "took 0.1409 minutes\n",
            "[INFO] starting epoch 3/10...Epoch 002: Loss: 0.160, accuracy 0.9485294117647058\n",
            "validation accuracy is 0.9393\n",
            "\n",
            "took 0.1407 minutes\n",
            "[INFO] starting epoch 4/10...Epoch 003: Loss: 0.093, accuracy 0.9738051470588235\n",
            "validation accuracy is 0.9338\n",
            "\n",
            "took 0.1386 minutes\n",
            "[INFO] starting epoch 5/10...Epoch 004: Loss: 0.075, accuracy 0.9788602941176471\n",
            "validation accuracy is 0.9357\n",
            "\n",
            "took 0.1384 minutes\n",
            "[INFO] starting epoch 6/10...Epoch 005: Loss: 0.052, accuracy 0.9898897058823529\n",
            "validation accuracy is 0.9191\n",
            "\n",
            "took 0.1402 minutes\n",
            "[INFO] starting epoch 7/10...Epoch 006: Loss: 0.035, accuracy 0.9940257352941176\n",
            "validation accuracy is 0.9430\n",
            "\n",
            "took 0.1394 minutes\n",
            "[INFO] starting epoch 8/10...Epoch 007: Loss: 0.030, accuracy 0.9940257352941176\n",
            "validation accuracy is 0.9301\n",
            "\n",
            "took 0.1375 minutes\n",
            "[INFO] starting epoch 9/10...Epoch 008: Loss: 0.033, accuracy 0.9944852941176471\n",
            "validation accuracy is 0.9375\n",
            "\n",
            "took 0.1378 minutes\n",
            "[INFO] starting epoch 10/10...Epoch 009: Loss: 0.041, accuracy 0.9935661764705882\n",
            "validation accuracy is 0.9393\n",
            "\n",
            "took 0.1393 minutes\n"
          ],
          "name": "stdout"
        }
      ]
    },
    {
      "cell_type": "markdown",
      "metadata": {
        "id": "F2xNzV-dY5Gx"
      },
      "source": [
        "#### **Test Acurracy**"
      ]
    },
    {
      "cell_type": "code",
      "metadata": {
        "colab": {
          "base_uri": "https://localhost:8080/"
        },
        "id": "WPyTOKm9Y5Gx",
        "outputId": "99b35920-2367-4891-a438-d21e924d5982"
      },
      "source": [
        "cnn_model_fewlayer.evaluate(testX,testY)"
      ],
      "execution_count": null,
      "outputs": [
        {
          "output_type": "stream",
          "text": [
            "37/37 [==============================] - 1s 19ms/step - loss: 0.2063 - acc: 0.9428\n"
          ],
          "name": "stdout"
        },
        {
          "output_type": "execute_result",
          "data": {
            "text/plain": [
              "[0.21011513471603394, 0.9408233165740967]"
            ]
          },
          "metadata": {
            "tags": []
          },
          "execution_count": 28
        }
      ]
    },
    {
      "cell_type": "code",
      "metadata": {
        "colab": {
          "base_uri": "https://localhost:8080/",
          "height": 384
        },
        "id": "TwLnGqbG_qEe",
        "outputId": "453c13fe-83bb-4802-9360-0be424c35904"
      },
      "source": [
        "plotvalidationandTraining(10,history_training_accuracy,history_validation_accuracy)\r\n",
        "history_validation_accuracy.pop(0)\r\n",
        "history_training_accuracy.pop(0)"
      ],
      "execution_count": null,
      "outputs": [
        {
          "output_type": "display_data",
          "data": {
            "image/png": "[encoded data removed]",
            "text/plain": [
              "<Figure size 432x288 with 1 Axes>"
            ]
          },
          "metadata": {
            "tags": [],
            "needs_background": "light"
          }
        },
        {
          "output_type": "execute_result",
          "data": {
            "text/plain": [
              "0"
            ]
          },
          "metadata": {
            "tags": []
          },
          "execution_count": 29
        }
      ]
    },
    {
      "cell_type": "markdown",
      "metadata": {
        "id": "mcE8K_bzY5Gx"
      },
      "source": [
        "#### **Report** "
      ]
    },
    {
      "cell_type": "code",
      "metadata": {
        "id": "M6kjIu_bY5Gy",
        "colab": {
          "base_uri": "https://localhost:8080/"
        },
        "outputId": "1eaee20a-02d9-408e-b0f8-9812aa65f8dd"
      },
      "source": [
        "report_yourmoder(cnn_model_fewlayer,testX,testY) \r\n",
        "del optfew \r\n",
        "del cnn_model_fewlayer\r\n",
        "print(\"done\")"
      ],
      "execution_count": null,
      "outputs": [
        {
          "output_type": "stream",
          "text": [
            "===================================\n",
            "confunsion matrix is \n",
            " 391 2 9 \n",
            " 8 349 3 \n",
            " 36 11 357 \n",
            "===================================\n",
            "===================================\n",
            "precision is \n",
            "class0:89.89 % \n",
            "class1:96.41 % \n",
            "class2:96.75 % \n",
            "\n",
            "===================================\n",
            "===================================\n",
            "recall is \n",
            "class0:97.26 % \n",
            "class1:96.94 % \n",
            "class2:88.37 % \n",
            "\n",
            "===================================\n",
            "===================================\n",
            "f1 is \n",
            "class0:93.43 % \n",
            "class1:96.68 % \n",
            "class2:92.37 % \n",
            "\n",
            "===================================\n",
            "===================================\n",
            "accuracy is \n",
            "class0:0.94\n",
            "===================================\n",
            "done\n"
          ],
          "name": "stdout"
        }
      ]
    },
    {
      "cell_type": "markdown",
      "metadata": {
        "id": "4nN1JbozPzpb"
      },
      "source": [
        "## **CNN Many Layers Model**"
      ]
    },
    {
      "cell_type": "markdown",
      "metadata": {
        "id": "j38Nw-7dCuHM"
      },
      "source": [
        "### **Layers**"
      ]
    },
    {
      "cell_type": "code",
      "metadata": {
        "id": "h_tmgMzX3yw-",
        "colab": {
          "base_uri": "https://localhost:8080/"
        },
        "outputId": "d1046e82-98de-46ac-89ab-e3938a9d9c59"
      },
      "source": [
        "cnn_model_manylayer=  models.Sequential()\r\n",
        "\r\n",
        "cnn_model_manylayer.add(layers.Conv2D(32, (3, 3), input_shape=(256,256,3)))\r\n",
        "cnn_model_manylayer.add(layers.Activation('relu'))\r\n",
        "cnn_model_manylayer.add(layers.MaxPooling2D(pool_size=(2, 2)))\r\n",
        "\r\n",
        "cnn_model_manylayer.add(layers.Conv2D(64, (3, 3)))\r\n",
        "cnn_model_manylayer.add(layers.Activation('relu'))\r\n",
        "cnn_model_manylayer.add(layers.MaxPooling2D(pool_size=(2, 2)))\r\n",
        " \r\n",
        "\r\n",
        "cnn_model_manylayer.add(layers.Conv2D(256, (3, 3)))\r\n",
        "cnn_model_manylayer.add(layers.Activation('relu'))\r\n",
        "cnn_model_manylayer.add(layers.MaxPooling2D(pool_size=(2, 2)))\r\n",
        "\r\n",
        "cnn_model_manylayer.add(layers.Conv2D(512, (3, 3)))\r\n",
        "cnn_model_manylayer.add(layers.Activation('relu'))\r\n",
        "cnn_model_manylayer.add(layers.MaxPooling2D(pool_size=(2, 2)))\r\n",
        "\r\n",
        "cnn_model_manylayer.add(layers.Conv2D(700, (3, 3)))\r\n",
        "cnn_model_manylayer.add(layers.Activation('relu'))\r\n",
        "cnn_model_manylayer.add(layers.MaxPooling2D(pool_size=(2, 2)))\r\n",
        "\r\n",
        "# Fully Connected Layer\r\n",
        "cnn_model_manylayer.add(layers.Flatten())\r\n",
        "cnn_model_manylayer.add(layers.Dense(256))\r\n",
        "cnn_model_manylayer.add(layers.Activation('relu'))\r\n",
        "\r\n",
        "cnn_model_manylayer.add(layers.Dense(1024))\r\n",
        "cnn_model_manylayer.add(layers.Activation('relu'))\r\n",
        "cnn_model_manylayer.add(layers.Dropout(0.3))\r\n",
        "cnn_model_manylayer.add(layers.Dense(3))\r\n",
        "cnn_model_manylayer.add(layers.Activation('softmax'))\r\n",
        "\r\n",
        "cnn_model_manylayer.summary()"
      ],
      "execution_count": null,
      "outputs": [
        {
          "output_type": "stream",
          "text": [
            "Model: \"sequential_1\"\n",
            "_________________________________________________________________\n",
            "Layer (type)                 Output Shape              Param #   \n",
            "=================================================================\n",
            "conv2d (Conv2D)              (None, 254, 254, 32)      896       \n",
            "_________________________________________________________________\n",
            "activation (Activation)      (None, 254, 254, 32)      0         \n",
            "_________________________________________________________________\n",
            "max_pooling2d (MaxPooling2D) (None, 127, 127, 32)      0         \n",
            "_________________________________________________________________\n",
            "conv2d_1 (Conv2D)            (None, 125, 125, 64)      18496     \n",
            "_________________________________________________________________\n",
            "activation_1 (Activation)    (None, 125, 125, 64)      0         \n",
            "_________________________________________________________________\n",
            "max_pooling2d_1 (MaxPooling2 (None, 62, 62, 64)        0         \n",
            "_________________________________________________________________\n",
            "conv2d_2 (Conv2D)            (None, 60, 60, 256)       147712    \n",
            "_________________________________________________________________\n",
            "activation_2 (Activation)    (None, 60, 60, 256)       0         \n",
            "_________________________________________________________________\n",
            "max_pooling2d_2 (MaxPooling2 (None, 30, 30, 256)       0         \n",
            "_________________________________________________________________\n",
            "conv2d_3 (Conv2D)            (None, 28, 28, 512)       1180160   \n",
            "_________________________________________________________________\n",
            "activation_3 (Activation)    (None, 28, 28, 512)       0         \n",
            "_________________________________________________________________\n",
            "max_pooling2d_3 (MaxPooling2 (None, 14, 14, 512)       0         \n",
            "_________________________________________________________________\n",
            "conv2d_4 (Conv2D)            (None, 12, 12, 700)       3226300   \n",
            "_________________________________________________________________\n",
            "activation_4 (Activation)    (None, 12, 12, 700)       0         \n",
            "_________________________________________________________________\n",
            "max_pooling2d_4 (MaxPooling2 (None, 6, 6, 700)         0         \n",
            "_________________________________________________________________\n",
            "flatten (Flatten)            (None, 25200)             0         \n",
            "_________________________________________________________________\n",
            "dense (Dense)                (None, 256)               6451456   \n",
            "_________________________________________________________________\n",
            "activation_5 (Activation)    (None, 256)               0         \n",
            "_________________________________________________________________\n",
            "dense_1 (Dense)              (None, 1024)              263168    \n",
            "_________________________________________________________________\n",
            "activation_6 (Activation)    (None, 1024)              0         \n",
            "_________________________________________________________________\n",
            "dropout (Dropout)            (None, 1024)              0         \n",
            "_________________________________________________________________\n",
            "dense_2 (Dense)              (None, 3)                 3075      \n",
            "_________________________________________________________________\n",
            "activation_7 (Activation)    (None, 3)                 0         \n",
            "=================================================================\n",
            "Total params: 11,291,263\n",
            "Trainable params: 11,291,263\n",
            "Non-trainable params: 0\n",
            "_________________________________________________________________\n"
          ],
          "name": "stdout"
        }
      ]
    },
    {
      "cell_type": "markdown",
      "metadata": {
        "id": "RCydxCF2ZfsT"
      },
      "source": [
        "### **With Augmentation**"
      ]
    },
    {
      "cell_type": "code",
      "metadata": {
        "id": "IHL6L3aOeE9f"
      },
      "source": [
        "epoch=10\r\n",
        "optmany = Adam(lr=INIT_LR, decay=INIT_LR / epoch)\r\n",
        "cnn_model_manylayer.compile(optimizer=optmany, loss=categorical_crossentropy, metrics=[\"acc\"])"
      ],
      "execution_count": null,
      "outputs": []
    },
    {
      "cell_type": "code",
      "metadata": {
        "id": "QoPtXTo6XlQ3"
      },
      "source": [
        "history_validation_accuracy,history_training_accuracy=trainingloop(cnn_model_manylayer,trainX,trainY,BS,10,optmany)"
      ],
      "execution_count": null,
      "outputs": []
    },
    {
      "cell_type": "markdown",
      "metadata": {
        "id": "QgPK-0AW9Ssp"
      },
      "source": [
        "#### **Test Accuracy**"
      ]
    },
    {
      "cell_type": "code",
      "metadata": {
        "id": "RA4o5SYtSNLu",
        "colab": {
          "base_uri": "https://localhost:8080/"
        },
        "outputId": "4d47a4c1-fb7e-450e-a7ba-0e9fdc86884a"
      },
      "source": [
        "testing(cnn_model_manylayer,testX,testY)"
      ],
      "execution_count": null,
      "outputs": [
        {
          "output_type": "stream",
          "text": [
            "68/68 [==============================] - 2s 21ms/step - loss: 0.3850 - acc: 0.8980\n",
            "[INFO] test accuracy: 0.9014\n"
          ],
          "name": "stdout"
        }
      ]
    },
    {
      "cell_type": "markdown",
      "metadata": {
        "id": "Zk3GLXZs7krG"
      },
      "source": [
        "#### **Report**"
      ]
    },
    {
      "cell_type": "code",
      "metadata": {
        "colab": {
          "base_uri": "https://localhost:8080/",
          "height": 384
        },
        "id": "uZBKvr_TH3d0",
        "outputId": "d622bb4c-5d42-43e8-c145-a24adf331033"
      },
      "source": [
        "plotvalidationandTraining(10,history_training_accuracy,history_validation_accuracy)\r\n",
        "history_validation_accuracy.pop(0)\r\n",
        "history_training_accuracy.pop(0)"
      ],
      "execution_count": null,
      "outputs": [
        {
          "output_type": "display_data",
          "data": {
            "image/png": "[encoded data removed]",
            "text/plain": [
              "<Figure size 432x288 with 1 Axes>"
            ]
          },
          "metadata": {
            "tags": [],
            "needs_background": "light"
          }
        },
        {
          "output_type": "execute_result",
          "data": {
            "text/plain": [
              "0"
            ]
          },
          "metadata": {
            "tags": []
          },
          "execution_count": 154
        }
      ]
    },
    {
      "cell_type": "code",
      "metadata": {
        "id": "19UcbyVG4J6J",
        "colab": {
          "base_uri": "https://localhost:8080/"
        },
        "outputId": "452e7c42-de1f-436a-8ef5-494ff6a66b5c"
      },
      "source": [
        "report_yourmoder(cnn_model_manylayer,testX,testY) \r\n",
        "del optmany \r\n",
        "del cnn_model_manylayer\r\n",
        "print(\"done\")"
      ],
      "execution_count": null,
      "outputs": [
        {
          "output_type": "stream",
          "text": [
            "===================================\n",
            "confunsion matrix is \n",
            " 587 67 66 \n",
            " 3 704 13 \n",
            " 34 62 624 \n",
            "===================================\n",
            "===================================\n",
            "precision is \n",
            "class0:94.07 % \n",
            "class1:84.51 % \n",
            "class2:88.76 % \n",
            "\n",
            "===================================\n",
            "===================================\n",
            "recall is \n",
            "class0:81.53 % \n",
            "class1:97.78 % \n",
            "class2:86.67 % \n",
            "\n",
            "===================================\n",
            "===================================\n",
            "f1 is \n",
            "class0:87.35 % \n",
            "class1:90.66 % \n",
            "class2:87.70 % \n",
            "\n",
            "===================================\n",
            "===================================\n",
            "accuracy is \n",
            "class0:0.89\n",
            "===================================\n",
            "done\n"
          ],
          "name": "stdout"
        }
      ]
    },
    {
      "cell_type": "markdown",
      "metadata": {
        "id": "r57HREKhZSKl"
      },
      "source": [
        "### **Without Augmentation**"
      ]
    },
    {
      "cell_type": "code",
      "metadata": {
        "id": "qL4IWkYEfpng"
      },
      "source": [
        "epoch=10\r\n",
        "optmany = Adam(lr=INIT_LR, decay=INIT_LR / epoch)\r\n",
        "cnn_model_manylayer.compile(optimizer=optmany, loss=categorical_crossentropy, metrics=[\"acc\"])"
      ],
      "execution_count": null,
      "outputs": []
    },
    {
      "cell_type": "code",
      "metadata": {
        "id": "-IHAf0CSZSKm",
        "colab": {
          "base_uri": "https://localhost:8080/"
        },
        "outputId": "27c0162c-d362-41c9-8d78-5a614ffd57cf"
      },
      "source": [
        "history_validation_accuracy,history_training_accuracy=trainingloop(cnn_model_manylayer,trainX,trainY,BS,epoch,optmany  )"
      ],
      "execution_count": null,
      "outputs": [
        {
          "output_type": "stream",
          "text": [
            "[INFO] starting epoch 1/10...Epoch 000: Loss: 0.800, accuracy 0.6355698529411765\n",
            "validation accuracy is 0.8364\n",
            "\n",
            "took 0.1761 minutes\n",
            "[INFO] starting epoch 2/10...Epoch 001: Loss: 0.311, accuracy 0.9021139705882353\n",
            "validation accuracy is 0.9118\n",
            "\n",
            "took 0.1708 minutes\n",
            "[INFO] starting epoch 3/10...Epoch 002: Loss: 0.161, accuracy 0.9563419117647058\n",
            "validation accuracy is 0.9246\n",
            "\n",
            "took 0.171 minutes\n",
            "[INFO] starting epoch 4/10...Epoch 003: Loss: 0.109, accuracy 0.9742647058823529\n",
            "validation accuracy is 0.9412\n",
            "\n",
            "took 0.1718 minutes\n",
            "[INFO] starting epoch 5/10...Epoch 004: Loss: 0.103, accuracy 0.9724264705882353\n",
            "validation accuracy is 0.9393\n",
            "\n",
            "took 0.1715 minutes\n",
            "[INFO] starting epoch 6/10...Epoch 005: Loss: 0.078, accuracy 0.9820772058823529\n",
            "validation accuracy is 0.9449\n",
            "\n",
            "took 0.1708 minutes\n",
            "[INFO] starting epoch 7/10...Epoch 006: Loss: 0.093, accuracy 0.9774816176470589\n",
            "validation accuracy is 0.9375\n",
            "\n",
            "took 0.1712 minutes\n",
            "[INFO] starting epoch 8/10...Epoch 007: Loss: 0.066, accuracy 0.9898897058823529\n",
            "validation accuracy is 0.9449\n",
            "\n",
            "took 0.1715 minutes\n",
            "[INFO] starting epoch 9/10...Epoch 008: Loss: 0.059, accuracy 0.9912683823529411\n",
            "validation accuracy is 0.9357\n",
            "\n",
            "took 0.1707 minutes\n",
            "[INFO] starting epoch 10/10...Epoch 009: Loss: 0.054, accuracy 0.9912683823529411\n",
            "validation accuracy is 0.9228\n",
            "\n",
            "took 0.1711 minutes\n"
          ],
          "name": "stdout"
        }
      ]
    },
    {
      "cell_type": "markdown",
      "metadata": {
        "id": "JdCjCF-EZSKm"
      },
      "source": [
        "#### **Test Acurracy**"
      ]
    },
    {
      "cell_type": "code",
      "metadata": {
        "colab": {
          "base_uri": "https://localhost:8080/"
        },
        "id": "IR06gpf3ZSKm",
        "outputId": "40119542-f92b-453e-fdd8-ab425946e5b7"
      },
      "source": [
        "testing(cnn_model_manylayer,testX,testY)"
      ],
      "execution_count": null,
      "outputs": [
        {
          "output_type": "stream",
          "text": [
            "37/37 [==============================] - 1s 21ms/step - loss: 0.2039 - acc: 0.9333\n",
            "[INFO] test accuracy: 0.9322\n"
          ],
          "name": "stdout"
        }
      ]
    },
    {
      "cell_type": "markdown",
      "metadata": {
        "id": "YwrEh-pUZSKm"
      },
      "source": [
        "#### **Report** "
      ]
    },
    {
      "cell_type": "code",
      "metadata": {
        "colab": {
          "base_uri": "https://localhost:8080/",
          "height": 384
        },
        "id": "cioOGySdBx5i",
        "outputId": "83a9b4f5-418c-409d-e943-ab5f5aff4e36"
      },
      "source": [
        "plotvalidationandTraining(10,history_training_accuracy,history_validation_accuracy)\r\n",
        "history_validation_accuracy.pop(0)\r\n",
        "history_training_accuracy.pop(0)"
      ],
      "execution_count": null,
      "outputs": [
        {
          "output_type": "display_data",
          "data": {
            "image/png": "[encoded data removed]",
            "text/plain": [
              "<Figure size 432x288 with 1 Axes>"
            ]
          },
          "metadata": {
            "tags": [],
            "needs_background": "light"
          }
        },
        {
          "output_type": "execute_result",
          "data": {
            "text/plain": [
              "0"
            ]
          },
          "metadata": {
            "tags": []
          },
          "execution_count": 45
        }
      ]
    },
    {
      "cell_type": "code",
      "metadata": {
        "colab": {
          "base_uri": "https://localhost:8080/"
        },
        "id": "E9yKrOj4ZSKn",
        "outputId": "4c60f623-b631-420e-a526-c7244a4ad345"
      },
      "source": [
        "report_yourmoder(cnn_model_manylayer,testX,testY) \r\n",
        "del optmany \r\n",
        "del cnn_model_manylayer\r\n",
        "print(\"done\")"
      ],
      "execution_count": null,
      "outputs": [
        {
          "output_type": "stream",
          "text": [
            "===================================\n",
            "confunsion matrix is \n",
            " 383 0 19 \n",
            " 11 318 31 \n",
            " 16 2 386 \n",
            "===================================\n",
            "===================================\n",
            "precision is \n",
            "class0:93.41 % \n",
            "class1:99.38 % \n",
            "class2:88.53 % \n",
            "\n",
            "===================================\n",
            "===================================\n",
            "recall is \n",
            "class0:95.27 % \n",
            "class1:88.33 % \n",
            "class2:95.54 % \n",
            "\n",
            "===================================\n",
            "===================================\n",
            "f1 is \n",
            "class0:94.33 % \n",
            "class1:93.53 % \n",
            "class2:91.90 % \n",
            "\n",
            "===================================\n",
            "===================================\n",
            "accuracy is \n",
            "class0:0.93\n",
            "===================================\n",
            "done\n"
          ],
          "name": "stdout"
        }
      ]
    },
    {
      "cell_type": "markdown",
      "metadata": {
        "id": "PyHDaPV9TWKN"
      },
      "source": [
        "## **FCN Many Layers Model**\r\n"
      ]
    },
    {
      "cell_type": "markdown",
      "metadata": {
        "id": "nqTs-idY0EP7"
      },
      "source": [
        "### **Layers**"
      ]
    },
    {
      "cell_type": "code",
      "metadata": {
        "id": "CdN8giQPahVy"
      },
      "source": [
        "inputs = tf.keras.Input(shape=(256,256,3))\r\n",
        "\r\n",
        "many_layer_model= layers.Flatten()(inputs)\r\n",
        "# Add a fully connected layer with 512 hidden units and ReLU activation\r\n",
        "many_layer_model = layers.Dense(1200, activation='relu')(many_layer_model)\r\n",
        "many_layer_model = layers.Dropout(0.5)(many_layer_model )\r\n",
        "\r\n",
        "many_layer_model = layers.Dense(1000, activation='relu')(many_layer_model)\r\n",
        "many_layer_model = layers.Dropout(0.5)(many_layer_model )\r\n",
        "many_layer_model = layers.Dense(900, activation='relu')(many_layer_model)\r\n",
        "many_layer_model = layers.Dropout(0.5)(many_layer_model )\r\n",
        "many_layer_model = layers.Dense(800, activation='relu')(many_layer_model)\r\n",
        "many_layer_model = layers.Dropout(0.5)(many_layer_model )\r\n",
        "\r\n",
        "many_layer_model = layers.Dense(256, activation='relu')(many_layer_model)\r\n",
        "many_layer_model = layers.Dropout(0.5)(many_layer_model )\r\n",
        "many_layer_model = layers.Dense(128, activation='relu')(many_layer_model)\r\n",
        "many_layer_model = layers.Dropout(0.5)(many_layer_model )\r\n",
        "many_layer_model = layers.Dense(64, activation='relu')(many_layer_model)\r\n",
        "\r\n",
        "# many_layer_model = layers.Dropout(0.5)(many_layer_model )\r\n",
        "many_layer_model = layers.Dense(32, activation='relu')(many_layer_model)\r\n",
        "# many_layer_model = layers.Dropout(0.5)(many_layer_model )\r\n",
        "\r\n",
        "many_layer_model = layers.Dense(16, activation='relu')(many_layer_model)\r\n",
        "# many_layer_model = layers.Dropout(0.5)(many_layer_model )\r\n",
        "\r\n",
        "# Add a final sigmoid layer for classification\r\n",
        "many_layer_model = layers.Dense(3, activation='softmax')(many_layer_model )\r\n",
        "many_layer_model = Model(inputs=inputs, outputs=many_layer_model)\r\n"
      ],
      "execution_count": null,
      "outputs": []
    },
    {
      "cell_type": "markdown",
      "metadata": {
        "id": "C171OSS8gXST"
      },
      "source": [
        "### **With Augmentation**"
      ]
    },
    {
      "cell_type": "code",
      "metadata": {
        "id": "zJLEkG_mahVz"
      },
      "source": [
        "epoch=10\r\n",
        "optmany =Adam(lr=INIT_LR, decay=INIT_LR / epoch)\r\n",
        "many_layer_model.compile(optimizer=optmany, loss=categorical_crossentropy, metrics=[\"acc\"])"
      ],
      "execution_count": null,
      "outputs": []
    },
    {
      "cell_type": "code",
      "metadata": {
        "colab": {
          "base_uri": "https://localhost:8080/"
        },
        "id": "svn_iRK7ahVz",
        "outputId": "b9aabefb-995a-4319-dec5-9e8b193ac9ce"
      },
      "source": [
        "many_layer_model.summary()"
      ],
      "execution_count": null,
      "outputs": [
        {
          "output_type": "stream",
          "text": [
            "Model: \"model\"\n",
            "_________________________________________________________________\n",
            "Layer (type)                 Output Shape              Param #   \n",
            "=================================================================\n",
            "input_1 (InputLayer)         [(None, 256, 256, 3)]     0         \n",
            "_________________________________________________________________\n",
            "flatten (Flatten)            (None, 196608)            0         \n",
            "_________________________________________________________________\n",
            "dense (Dense)                (None, 1200)              235930800 \n",
            "_________________________________________________________________\n",
            "dropout (Dropout)            (None, 1200)              0         \n",
            "_________________________________________________________________\n",
            "dense_1 (Dense)              (None, 1000)              1201000   \n",
            "_________________________________________________________________\n",
            "dropout_1 (Dropout)          (None, 1000)              0         \n",
            "_________________________________________________________________\n",
            "dense_2 (Dense)              (None, 900)               900900    \n",
            "_________________________________________________________________\n",
            "dropout_2 (Dropout)          (None, 900)               0         \n",
            "_________________________________________________________________\n",
            "dense_3 (Dense)              (None, 800)               720800    \n",
            "_________________________________________________________________\n",
            "dropout_3 (Dropout)          (None, 800)               0         \n",
            "_________________________________________________________________\n",
            "dense_4 (Dense)              (None, 256)               205056    \n",
            "_________________________________________________________________\n",
            "dropout_4 (Dropout)          (None, 256)               0         \n",
            "_________________________________________________________________\n",
            "dense_5 (Dense)              (None, 128)               32896     \n",
            "_________________________________________________________________\n",
            "dropout_5 (Dropout)          (None, 128)               0         \n",
            "_________________________________________________________________\n",
            "dense_6 (Dense)              (None, 64)                8256      \n",
            "_________________________________________________________________\n",
            "dense_7 (Dense)              (None, 32)                2080      \n",
            "_________________________________________________________________\n",
            "dense_8 (Dense)              (None, 16)                528       \n",
            "_________________________________________________________________\n",
            "dense_9 (Dense)              (None, 3)                 51        \n",
            "=================================================================\n",
            "Total params: 239,002,367\n",
            "Trainable params: 239,002,367\n",
            "Non-trainable params: 0\n",
            "_________________________________________________________________\n"
          ],
          "name": "stdout"
        }
      ]
    },
    {
      "cell_type": "code",
      "metadata": {
        "id": "ma9e_sBiahV0",
        "colab": {
          "base_uri": "https://localhost:8080/"
        },
        "outputId": "8df5f8de-13d2-4f12-bd74-f3065bf671dd"
      },
      "source": [
        "history_validation_accuracy,history_training_accuracy=trainingloop(many_layer_model,trainX,trainY,BS,10,optmany)"
      ],
      "execution_count": null,
      "outputs": [
        {
          "output_type": "stream",
          "text": [
            "[INFO] starting epoch 1/10...Epoch 000: Loss: 6.308, accuracy 0.43170362903225806\n",
            "validation accuracy is 0.6319\n",
            "\n",
            "took 0.1495 minutes\n",
            "[INFO] starting epoch 2/10...Epoch 001: Loss: 0.754, accuracy 0.6428931451612904\n",
            "validation accuracy is 0.7083\n",
            "\n",
            "took 0.1212 minutes\n",
            "[INFO] starting epoch 3/10...Epoch 002: Loss: 0.619, accuracy 0.7424395161290323\n",
            "validation accuracy is 0.7758\n",
            "\n",
            "took 0.121 minutes\n",
            "[INFO] starting epoch 4/10...Epoch 003: Loss: 0.560, accuracy 0.7799899193548387\n",
            "validation accuracy is 0.8433\n",
            "\n",
            "took 0.1211 minutes\n",
            "[INFO] starting epoch 5/10...Epoch 004: Loss: 0.520, accuracy 0.8009072580645161\n",
            "validation accuracy is 0.8254\n",
            "\n",
            "took 0.1212 minutes\n",
            "[INFO] starting epoch 6/10...Epoch 005: Loss: 0.430, accuracy 0.8359375\n",
            "validation accuracy is 0.8492\n",
            "\n",
            "took 0.1212 minutes\n",
            "[INFO] starting epoch 7/10...Epoch 006: Loss: 0.407, accuracy 0.850554435483871\n",
            "validation accuracy is 0.8462\n",
            "\n",
            "took 0.1214 minutes\n",
            "[INFO] starting epoch 8/10...Epoch 007: Loss: 0.375, accuracy 0.8621471774193549\n",
            "validation accuracy is 0.8542\n",
            "\n",
            "took 0.121 minutes\n",
            "[INFO] starting epoch 9/10...Epoch 008: Loss: 0.361, accuracy 0.8684475806451613\n",
            "validation accuracy is 0.8482\n",
            "\n",
            "took 0.1219 minutes\n",
            "[INFO] starting epoch 10/10...Epoch 009: Loss: 0.353, accuracy 0.8802923387096774\n",
            "validation accuracy is 0.8343\n",
            "\n",
            "took 0.1214 minutes\n"
          ],
          "name": "stdout"
        }
      ]
    },
    {
      "cell_type": "markdown",
      "metadata": {
        "id": "V4qPQcY7ahV0"
      },
      "source": [
        "#### **Test Acurracy**"
      ]
    },
    {
      "cell_type": "code",
      "metadata": {
        "colab": {
          "base_uri": "https://localhost:8080/",
          "height": 384
        },
        "id": "nz53s6mtMWp0",
        "outputId": "1fca41db-6b7d-4ea4-d495-6e75a3f2f453"
      },
      "source": [
        "plotvalidationandTraining(10,history_training_accuracy,history_validation_accuracy)\r\n",
        "history_validation_accuracy.pop(0)\r\n",
        "history_training_accuracy.pop(0)"
      ],
      "execution_count": null,
      "outputs": [
        {
          "output_type": "display_data",
          "data": {
            "image/png": "[encoded data removed]",
            "text/plain": [
              "<Figure size 432x288 with 1 Axes>"
            ]
          },
          "metadata": {
            "tags": [],
            "needs_background": "light"
          }
        },
        {
          "output_type": "execute_result",
          "data": {
            "text/plain": [
              "0"
            ]
          },
          "metadata": {
            "tags": []
          },
          "execution_count": 42
        }
      ]
    },
    {
      "cell_type": "code",
      "metadata": {
        "colab": {
          "base_uri": "https://localhost:8080/"
        },
        "id": "jXzv62RcahV0",
        "outputId": "26808215-1a61-47e1-d6ec-cc84db065a92"
      },
      "source": [
        "testing(many_layer_model,testX,testY)"
      ],
      "execution_count": null,
      "outputs": [
        {
          "output_type": "stream",
          "text": [
            "68/68 [==============================] - 1s 16ms/step - loss: 0.4197 - acc: 0.8415\n",
            "[INFO] test accuracy: 0.8426\n"
          ],
          "name": "stdout"
        }
      ]
    },
    {
      "cell_type": "markdown",
      "metadata": {
        "id": "QPgi7Kb5ahV0"
      },
      "source": [
        "#### **Report**"
      ]
    },
    {
      "cell_type": "code",
      "metadata": {
        "colab": {
          "base_uri": "https://localhost:8080/"
        },
        "id": "7NckAAYbahV1",
        "outputId": "6906aea1-00f9-4606-dff6-25a2e8688678"
      },
      "source": [
        "report_yourmoder(many_layer_model,testX,testY) \r\n",
        "del inputs\r\n",
        "del optmany\r\n",
        "del many_layer_model"
      ],
      "execution_count": null,
      "outputs": [
        {
          "output_type": "stream",
          "text": [
            "===================================\n",
            "confunsion matrix is \n",
            " 577 53 90 \n",
            " 6 704 10 \n",
            " 104 77 539 \n",
            "===================================\n",
            "===================================\n",
            "precision is \n",
            "class0:83.99 % \n",
            "class1:84.41 % \n",
            "class2:84.35 % \n",
            "\n",
            "===================================\n",
            "===================================\n",
            "recall is \n",
            "class0:80.14 % \n",
            "class1:97.78 % \n",
            "class2:74.86 % \n",
            "\n",
            "===================================\n",
            "===================================\n",
            "f1 is \n",
            "class0:82.02 % \n",
            "class1:90.60 % \n",
            "class2:79.32 % \n",
            "\n",
            "===================================\n",
            "===================================\n",
            "accuracy is \n",
            "class0:0.84\n",
            "===================================\n"
          ],
          "name": "stdout"
        }
      ]
    },
    {
      "cell_type": "code",
      "metadata": {
        "id": "kUZxgzZZ-Jri"
      },
      "source": [
        "inputs = tf.keras.Input(shape=(256,256,3))\r\n",
        "\r\n",
        "many_layer_model= layers.Flatten()(inputs)\r\n",
        "# Add a fully connected layer with 512 hidden units and ReLU activation\r\n",
        "many_layer_model = layers.Dense(1200, activation='relu')(many_layer_model)\r\n",
        "many_layer_model = layers.Dropout(0.5)(many_layer_model )\r\n",
        "\r\n",
        "many_layer_model = layers.Dense(1000, activation='relu')(many_layer_model)\r\n",
        "many_layer_model = layers.Dropout(0.5)(many_layer_model )\r\n",
        "many_layer_model = layers.Dense(900, activation='relu')(many_layer_model)\r\n",
        "many_layer_model = layers.Dropout(0.5)(many_layer_model )\r\n",
        "many_layer_model = layers.Dense(800, activation='relu')(many_layer_model)\r\n",
        "many_layer_model = layers.Dropout(0.5)(many_layer_model )\r\n",
        "\r\n",
        "many_layer_model = layers.Dense(256, activation='relu')(many_layer_model)\r\n",
        "many_layer_model = layers.Dropout(0.5)(many_layer_model )\r\n",
        "many_layer_model = layers.Dense(128, activation='relu')(many_layer_model)\r\n",
        "many_layer_model = layers.Dropout(0.5)(many_layer_model )\r\n",
        "many_layer_model = layers.Dense(64, activation='relu')(many_layer_model)\r\n",
        "\r\n",
        "# many_layer_model = layers.Dropout(0.5)(many_layer_model )\r\n",
        "many_layer_model = layers.Dense(32, activation='relu')(many_layer_model)\r\n",
        "# many_layer_model = layers.Dropout(0.5)(many_layer_model )\r\n",
        "\r\n",
        "many_layer_model = layers.Dense(16, activation='relu')(many_layer_model)\r\n",
        "# many_layer_model = layers.Dropout(0.5)(many_layer_model )\r\n",
        "\r\n",
        "# Add a final sigmoid layer for classification\r\n",
        "many_layer_model = layers.Dense(3, activation='softmax')(many_layer_model )\r\n",
        "many_layer_model = Model(inputs=inputs, outputs=many_layer_model)\r\n"
      ],
      "execution_count": null,
      "outputs": []
    },
    {
      "cell_type": "markdown",
      "metadata": {
        "id": "px0nASRpaCdV"
      },
      "source": [
        "### **Without Augmentation** "
      ]
    },
    {
      "cell_type": "code",
      "metadata": {
        "id": "8F1_FNGHUypk"
      },
      "source": [
        "epoch=15\r\n",
        "optmany =Adam(lr=INIT_LR, decay=INIT_LR / epoch)\r\n",
        "many_layer_model.compile(optimizer=optmany, loss=categorical_crossentropy, metrics=[\"acc\"])"
      ],
      "execution_count": null,
      "outputs": []
    },
    {
      "cell_type": "code",
      "metadata": {
        "id": "mtAoIwGFPy8y",
        "colab": {
          "base_uri": "https://localhost:8080/"
        },
        "outputId": "e1cf7717-d53c-40ca-fe70-9be39836e937"
      },
      "source": [
        "history_validation_accuracy,history_training_accuracy=trainingloop(many_layer_model,trainX,trainY,BS,15,optmany)"
      ],
      "execution_count": null,
      "outputs": [
        {
          "output_type": "stream",
          "text": [
            "[INFO] starting epoch 1/15...Epoch 000: Loss: 3164.358, accuracy 0.34237132352941174\n",
            "validation accuracy is 0.5754\n",
            "\n",
            "took 0.05447 minutes\n",
            "[INFO] starting epoch 2/15...Epoch 001: Loss: 153.493, accuracy 0.5330882352941176\n",
            "validation accuracy is 0.6342\n",
            "\n",
            "took 0.0521 minutes\n",
            "[INFO] starting epoch 3/15...Epoch 002: Loss: 5.723, accuracy 0.7141544117647058\n",
            "validation accuracy is 0.7482\n",
            "\n",
            "took 0.0521 minutes\n",
            "[INFO] starting epoch 4/15...Epoch 003: Loss: 2.178, accuracy 0.8207720588235294\n",
            "validation accuracy is 0.8585\n",
            "\n",
            "took 0.05219 minutes\n",
            "[INFO] starting epoch 5/15...Epoch 004: Loss: 0.855, accuracy 0.8556985294117647\n",
            "validation accuracy is 0.8897\n",
            "\n",
            "took 0.05206 minutes\n",
            "[INFO] starting epoch 6/15...Epoch 005: Loss: 0.813, accuracy 0.8451286764705882\n",
            "validation accuracy is 0.8254\n",
            "\n",
            "took 0.05234 minutes\n",
            "[INFO] starting epoch 7/15...Epoch 006: Loss: 1.270, accuracy 0.8432904411764706\n",
            "validation accuracy is 0.8824\n",
            "\n",
            "took 0.0518 minutes\n",
            "[INFO] starting epoch 8/15...Epoch 007: Loss: 0.834, accuracy 0.8704044117647058\n",
            "validation accuracy is 0.9007\n",
            "\n",
            "took 0.05211 minutes\n",
            "[INFO] starting epoch 9/15...Epoch 008: Loss: 0.418, accuracy 0.9085477941176471\n",
            "validation accuracy is 0.9026\n",
            "\n",
            "took 0.05191 minutes\n",
            "[INFO] starting epoch 10/15...Epoch 009: Loss: 0.590, accuracy 0.8731617647058824\n",
            "validation accuracy is 0.9062\n",
            "\n",
            "took 0.05259 minutes\n",
            "[INFO] starting epoch 11/15...Epoch 010: Loss: 0.462, accuracy 0.8970588235294118\n",
            "validation accuracy is 0.9062\n",
            "\n",
            "took 0.05196 minutes\n",
            "[INFO] starting epoch 12/15...Epoch 011: Loss: 0.529, accuracy 0.8887867647058824\n",
            "validation accuracy is 0.8217\n",
            "\n",
            "took 0.05206 minutes\n",
            "[INFO] starting epoch 13/15...Epoch 012: Loss: 0.420, accuracy 0.9057904411764706\n",
            "validation accuracy is 0.9246\n",
            "\n",
            "took 0.05184 minutes\n",
            "[INFO] starting epoch 14/15...Epoch 013: Loss: 0.396, accuracy 0.9048713235294118\n",
            "validation accuracy is 0.9191\n",
            "\n",
            "took 0.05197 minutes\n",
            "[INFO] starting epoch 15/15...Epoch 014: Loss: 0.697, accuracy 0.8699448529411765\n",
            "validation accuracy is 0.8879\n",
            "\n",
            "took 0.05188 minutes\n"
          ],
          "name": "stdout"
        }
      ]
    },
    {
      "cell_type": "markdown",
      "metadata": {
        "id": "IMxBZ9nL9KOQ"
      },
      "source": [
        "#### **Test Acurracy**"
      ]
    },
    {
      "cell_type": "code",
      "metadata": {
        "id": "_L7c11DZe9PT",
        "colab": {
          "base_uri": "https://localhost:8080/"
        },
        "outputId": "6a90139c-71f0-47da-959d-399d6733efdf"
      },
      "source": [
        "testing(many_layer_model,testX,testY)"
      ],
      "execution_count": null,
      "outputs": [
        {
          "output_type": "stream",
          "text": [
            "37/37 [==============================] - 1s 11ms/step - loss: 0.7163 - acc: 0.8878\n",
            "[INFO] test accuracy: 0.8851\n"
          ],
          "name": "stdout"
        }
      ]
    },
    {
      "cell_type": "markdown",
      "metadata": {
        "id": "TgpxsbPpWOiC"
      },
      "source": [
        "#### **Report**"
      ]
    },
    {
      "cell_type": "code",
      "metadata": {
        "id": "oiJwtLarGBxO",
        "colab": {
          "base_uri": "https://localhost:8080/",
          "height": 917
        },
        "outputId": "d2f08693-a209-4eb1-b1b0-91e9e8deeb5a"
      },
      "source": [
        "plotvalidationandTraining(15,history_training_accuracy,history_validation_accuracy)\r\n",
        "history_validation_accuracy.pop(0)\r\n",
        "history_training_accuracy.pop(0)\r\n",
        "report_yourmoder(many_layer_model,testX,testY) \r\n",
        "del inputs\r\n",
        "del optmany\r\n",
        "del many_layer_model"
      ],
      "execution_count": null,
      "outputs": [
        {
          "output_type": "display_data",
          "data": {
            "image/png": "[encoded data removed]",
            "text/plain": [
              "<Figure size 432x288 with 1 Axes>"
            ]
          },
          "metadata": {
            "tags": [],
            "needs_background": "light"
          }
        },
        {
          "output_type": "stream",
          "text": [
            "===================================\n",
            "confunsion matrix is \n",
            " 331 3 68 \n",
            " 4 315 41 \n",
            " 15 3 386 \n",
            "===================================\n",
            "===================================\n",
            "precision is \n",
            "class0:94.57 % \n",
            "class1:98.13 % \n",
            "class2:77.98 % \n",
            "\n",
            "===================================\n",
            "===================================\n",
            "recall is \n",
            "class0:82.34 % \n",
            "class1:87.50 % \n",
            "class2:95.54 % \n",
            "\n",
            "===================================\n",
            "===================================\n",
            "f1 is \n",
            "class0:88.03 % \n",
            "class1:92.51 % \n",
            "class2:85.87 % \n",
            "\n",
            "===================================\n",
            "===================================\n",
            "accuracy is \n",
            "class0:0.89\n",
            "===================================\n"
          ],
          "name": "stdout"
        }
      ]
    },
    {
      "cell_type": "markdown",
      "metadata": {
        "id": "_qC96ioom6AL"
      },
      "source": [
        "## **FCN Few Layers Model**"
      ]
    },
    {
      "cell_type": "code",
      "metadata": {
        "id": "pdBT4YbHT2hP"
      },
      "source": [
        "del few_layer_model"
      ],
      "execution_count": null,
      "outputs": []
    },
    {
      "cell_type": "markdown",
      "metadata": {
        "id": "HEHN5QS0T7cO"
      },
      "source": [
        "### **Layers**"
      ]
    },
    {
      "cell_type": "code",
      "metadata": {
        "id": "ziNvoOnS6aE7",
        "colab": {
          "base_uri": "https://localhost:8080/"
        },
        "outputId": "e0f1eea8-9b89-4c26-ba79-9347931d276e"
      },
      "source": [
        "few_layer_model = models.Sequential()\r\n",
        "\r\n",
        "few_layer_model.add(layers.Flatten(input_shape=(256,256,3)))\r\n",
        "few_layer_model.add(layers.Dense(1024, activation='relu', input_dim=(256*256*3)))\r\n",
        "few_layer_model.add(layers.Dense(50, activation='relu'))\r\n",
        "few_layer_model.add(layers.Dense(3, activation='softmax'))\r\n",
        "\r\n",
        "few_layer_model.summary()\r\n"
      ],
      "execution_count": null,
      "outputs": [
        {
          "output_type": "stream",
          "text": [
            "Model: \"sequential_3\"\n",
            "_________________________________________________________________\n",
            "Layer (type)                 Output Shape              Param #   \n",
            "=================================================================\n",
            "flatten_8 (Flatten)          (None, 196608)            0         \n",
            "_________________________________________________________________\n",
            "dense_27 (Dense)             (None, 1024)              201327616 \n",
            "_________________________________________________________________\n",
            "dense_28 (Dense)             (None, 50)                51250     \n",
            "_________________________________________________________________\n",
            "dense_29 (Dense)             (None, 3)                 153       \n",
            "=================================================================\n",
            "Total params: 201,379,019\n",
            "Trainable params: 201,379,019\n",
            "Non-trainable params: 0\n",
            "_________________________________________________________________\n"
          ],
          "name": "stdout"
        }
      ]
    },
    {
      "cell_type": "markdown",
      "metadata": {
        "id": "em9s1WU0cQ0O"
      },
      "source": [
        "### **With Augmentation**"
      ]
    },
    {
      "cell_type": "code",
      "metadata": {
        "id": "tFUyJyqLOvdA"
      },
      "source": [
        "epoch=20\r\n",
        "opx=Adam(lr=INIT_LR, decay=INIT_LR / epoch)\r\n",
        "few_layer_model.compile(optimizer=opx, loss=categorical_crossentropy, metrics=[\"acc\"])"
      ],
      "execution_count": null,
      "outputs": []
    },
    {
      "cell_type": "code",
      "metadata": {
        "id": "RJ5bjTwqVMU4",
        "colab": {
          "base_uri": "https://localhost:8080/"
        },
        "outputId": "1c161449-84e4-446c-99f8-2eb2d299732d"
      },
      "source": [
        "history_validation_accuracy,history_training_accuracy=trainingloop(few_layer_model,trainX,trainY,BS,10,opx)"
      ],
      "execution_count": null,
      "outputs": [
        {
          "output_type": "stream",
          "text": [
            "[INFO] starting epoch 1/10...Epoch 000: Loss: 40.892, accuracy 0.5173891129032258\n",
            "validation accuracy is 0.6786\n",
            "\n",
            "took 0.1165 minutes\n",
            "[INFO] starting epoch 2/10...Epoch 001: Loss: 2.144, accuracy 0.6663306451612904\n",
            "validation accuracy is 0.5387\n",
            "\n",
            "took 0.1147 minutes\n",
            "[INFO] starting epoch 3/10...Epoch 002: Loss: 1.924, accuracy 0.7013608870967742\n",
            "validation accuracy is 0.5853\n",
            "\n",
            "took 0.1155 minutes\n",
            "[INFO] starting epoch 4/10...Epoch 003: Loss: 1.532, accuracy 0.7167338709677419\n",
            "validation accuracy is 0.5784\n",
            "\n",
            "took 0.1156 minutes\n",
            "[INFO] starting epoch 5/10...Epoch 004: Loss: 1.745, accuracy 0.7207661290322581\n",
            "validation accuracy is 0.6577\n",
            "\n",
            "took 0.1154 minutes\n",
            "[INFO] starting epoch 6/10...Epoch 005: Loss: 1.660, accuracy 0.7260584677419355\n",
            "validation accuracy is 0.8085\n",
            "\n",
            "took 0.1152 minutes\n",
            "[INFO] starting epoch 7/10...Epoch 006: Loss: 2.328, accuracy 0.7222782258064516\n",
            "validation accuracy is 0.8185\n",
            "\n",
            "took 0.115 minutes\n",
            "[INFO] starting epoch 8/10...Epoch 007: Loss: 1.747, accuracy 0.7623487903225806\n",
            "validation accuracy is 0.8323\n",
            "\n",
            "took 0.1182 minutes\n",
            "[INFO] starting epoch 9/10...Epoch 008: Loss: 1.134, accuracy 0.8122479838709677\n",
            "validation accuracy is 0.8373\n",
            "\n",
            "took 0.1157 minutes\n",
            "[INFO] starting epoch 10/10...Epoch 009: Loss: 0.817, accuracy 0.8273689516129032\n",
            "validation accuracy is 0.7490\n",
            "\n",
            "took 0.1158 minutes\n"
          ],
          "name": "stdout"
        }
      ]
    },
    {
      "cell_type": "code",
      "metadata": {
        "colab": {
          "base_uri": "https://localhost:8080/",
          "height": 384
        },
        "id": "6xe5iLC_NYSx",
        "outputId": "3924b811-e2bb-4984-bebd-30f71095d3dd"
      },
      "source": [
        "plotvalidationandTraining(10,history_training_accuracy,history_validation_accuracy)\r\n",
        "history_validation_accuracy.pop(0)\r\n",
        "history_training_accuracy.pop(0)"
      ],
      "execution_count": null,
      "outputs": [
        {
          "output_type": "display_data",
          "data": {
            "image/png": "[encoded data removed]",
            "text/plain": [
              "<Figure size 432x288 with 1 Axes>"
            ]
          },
          "metadata": {
            "tags": [],
            "needs_background": "light"
          }
        },
        {
          "output_type": "execute_result",
          "data": {
            "text/plain": [
              "0"
            ]
          },
          "metadata": {
            "tags": []
          },
          "execution_count": 48
        }
      ]
    },
    {
      "cell_type": "markdown",
      "metadata": {
        "id": "SxICjmWx88B9"
      },
      "source": [
        "#### **Test Accuracy**"
      ]
    },
    {
      "cell_type": "code",
      "metadata": {
        "id": "6hIq9rgGVrVq",
        "colab": {
          "base_uri": "https://localhost:8080/"
        },
        "outputId": "b8726064-a67e-41e6-b9f8-f1a7ae315a56"
      },
      "source": [
        "testing(few_layer_model,testX,testY)"
      ],
      "execution_count": null,
      "outputs": [
        {
          "output_type": "stream",
          "text": [
            "68/68 [==============================] - 1s 15ms/step - loss: 1.0535 - acc: 0.7766\n",
            "[INFO] test accuracy: 0.7699\n"
          ],
          "name": "stdout"
        }
      ]
    },
    {
      "cell_type": "markdown",
      "metadata": {
        "id": "TpCLVx2HWYdi"
      },
      "source": [
        "#### **Report**"
      ]
    },
    {
      "cell_type": "code",
      "metadata": {
        "id": "vC2fAmIQ6n_N",
        "colab": {
          "base_uri": "https://localhost:8080/"
        },
        "outputId": "b1067969-d53c-4069-eff1-b87b5a0c3675"
      },
      "source": [
        "report_yourmoder(few_layer_model,testX,testY) \r\n",
        "del opx\r\n",
        "del few_layer_model\r\n",
        "print(\"done\")"
      ],
      "execution_count": null,
      "outputs": [
        {
          "output_type": "stream",
          "text": [
            "===================================\n",
            "confunsion matrix is \n",
            " 639 76 5 \n",
            " 25 690 5 \n",
            " 230 156 334 \n",
            "===================================\n",
            "===================================\n",
            "precision is \n",
            "class0:71.48 % \n",
            "class1:74.84 % \n",
            "class2:97.09 % \n",
            "\n",
            "===================================\n",
            "===================================\n",
            "recall is \n",
            "class0:88.75 % \n",
            "class1:95.83 % \n",
            "class2:46.39 % \n",
            "\n",
            "===================================\n",
            "===================================\n",
            "f1 is \n",
            "class0:79.18 % \n",
            "class1:84.04 % \n",
            "class2:62.78 % \n",
            "\n",
            "===================================\n",
            "===================================\n",
            "accuracy is \n",
            "class0:0.77\n",
            "===================================\n",
            "done\n"
          ],
          "name": "stdout"
        }
      ]
    },
    {
      "cell_type": "markdown",
      "metadata": {
        "id": "xihWa2cQcYhE"
      },
      "source": [
        "### **Without Augmentation**"
      ]
    },
    {
      "cell_type": "code",
      "metadata": {
        "id": "xPb7-WNpcfpt"
      },
      "source": [
        "epoch=10\r\n",
        "opx=Adam(lr=INIT_LR, decay=INIT_LR / epoch)\r\n",
        "few_layer_model.compile(optimizer=opx, loss=categorical_crossentropy, metrics=[\"acc\"])"
      ],
      "execution_count": null,
      "outputs": []
    },
    {
      "cell_type": "code",
      "metadata": {
        "colab": {
          "base_uri": "https://localhost:8080/"
        },
        "id": "hAUTNGF1se8G",
        "outputId": "f931d796-7611-4206-ed14-d1a363665334"
      },
      "source": [
        "history_validation_accuracy,history_training_accuracy=trainingloop(few_layer_model,trainX,trainY,BS,10,opx)"
      ],
      "execution_count": null,
      "outputs": [
        {
          "output_type": "stream",
          "text": [
            "[INFO] starting epoch 1/10...Epoch 000: Loss: 38.674, accuracy 0.6070772058823529\n",
            "validation accuracy is 0.7518\n",
            "\n",
            "took 0.06534 minutes\n",
            "[INFO] starting epoch 2/10...Epoch 001: Loss: 2.766, accuracy 0.8713235294117647\n",
            "validation accuracy is 0.9007\n",
            "\n",
            "took 0.06391 minutes\n",
            "[INFO] starting epoch 3/10...Epoch 002: Loss: 1.600, accuracy 0.8993566176470589\n",
            "validation accuracy is 0.8842\n",
            "\n",
            "took 0.06456 minutes\n",
            "[INFO] starting epoch 4/10...Epoch 003: Loss: 2.248, accuracy 0.8249080882352942\n",
            "validation accuracy is 0.7794\n",
            "\n",
            "took 0.06424 minutes\n",
            "[INFO] starting epoch 5/10...Epoch 004: Loss: 3.763, accuracy 0.8676470588235294\n",
            "validation accuracy is 0.8750\n",
            "\n",
            "took 0.06414 minutes\n",
            "[INFO] starting epoch 6/10...Epoch 005: Loss: 2.860, accuracy 0.8511029411764706\n",
            "validation accuracy is 0.9283\n",
            "\n",
            "took 0.06403 minutes\n",
            "[INFO] starting epoch 7/10...Epoch 006: Loss: 1.602, accuracy 0.8828125\n",
            "validation accuracy is 0.9044\n",
            "\n",
            "took 0.0641 minutes\n",
            "[INFO] starting epoch 8/10...Epoch 007: Loss: 1.517, accuracy 0.9011948529411765\n",
            "validation accuracy is 0.9283\n",
            "\n",
            "took 0.06388 minutes\n",
            "[INFO] starting epoch 9/10...Epoch 008: Loss: 1.558, accuracy 0.9099264705882353\n",
            "validation accuracy is 0.9007\n",
            "\n",
            "took 0.06389 minutes\n",
            "[INFO] starting epoch 10/10...Epoch 009: Loss: 1.663, accuracy 0.9067095588235294\n",
            "validation accuracy is 0.8235\n",
            "\n",
            "took 0.06735 minutes\n"
          ],
          "name": "stdout"
        }
      ]
    },
    {
      "cell_type": "markdown",
      "metadata": {
        "id": "MWCj15B2cfp0"
      },
      "source": [
        "#### **Test Accuracy**"
      ]
    },
    {
      "cell_type": "code",
      "metadata": {
        "colab": {
          "base_uri": "https://localhost:8080/"
        },
        "id": "kmARs0mBcfp1",
        "outputId": "2a77b79c-9803-491c-9abe-a18d5af5a474"
      },
      "source": [
        " testing(few_layer_model,testX,testY)"
      ],
      "execution_count": null,
      "outputs": [
        {
          "output_type": "stream",
          "text": [
            "37/37 [==============================] - 1s 15ms/step - loss: 2.3815 - acc: 0.8276\n",
            "[INFO] test accuracy: 0.8173\n"
          ],
          "name": "stdout"
        }
      ]
    },
    {
      "cell_type": "markdown",
      "metadata": {
        "id": "hsesX0cQcfp1"
      },
      "source": [
        "#### **Report**"
      ]
    },
    {
      "cell_type": "code",
      "metadata": {
        "colab": {
          "base_uri": "https://localhost:8080/",
          "height": 917
        },
        "id": "FsPUTA5cUWTC",
        "outputId": "aa248754-1f15-46b9-9740-5ad525280873"
      },
      "source": [
        "plotvalidationandTraining(10,history_training_accuracy,history_validation_accuracy)\r\n",
        "history_validation_accuracy.pop(0)\r\n",
        "history_training_accuracy.pop(0)\r\n",
        "report_yourmoder(few_layer_model,testX,testY)"
      ],
      "execution_count": null,
      "outputs": [
        {
          "output_type": "display_data",
          "data": {
            "image/png": "[encoded data removed]",
            "text/plain": [
              "<Figure size 432x288 with 1 Axes>"
            ]
          },
          "metadata": {
            "tags": [],
            "needs_background": "light"
          }
        },
        {
          "output_type": "stream",
          "text": [
            "===================================\n",
            "confunsion matrix is \n",
            " 396 1 5 \n",
            " 37 306 17 \n",
            " 151 2 251 \n",
            "===================================\n",
            "===================================\n",
            "precision is \n",
            "class0:67.81 % \n",
            "class1:99.03 % \n",
            "class2:91.94 % \n",
            "\n",
            "===================================\n",
            "===================================\n",
            "recall is \n",
            "class0:98.51 % \n",
            "class1:85.00 % \n",
            "class2:62.13 % \n",
            "\n",
            "===================================\n",
            "===================================\n",
            "f1 is \n",
            "class0:80.32 % \n",
            "class1:91.48 % \n",
            "class2:74.15 % \n",
            "\n",
            "===================================\n",
            "===================================\n",
            "accuracy is \n",
            "class0:0.82\n",
            "===================================\n"
          ],
          "name": "stdout"
        }
      ]
    },
    {
      "cell_type": "code",
      "metadata": {
        "id": "_I3UxWlccfp1",
        "colab": {
          "base_uri": "https://localhost:8080/"
        },
        "outputId": "4ec8615f-b618-45ad-b8b7-611113ea929e"
      },
      "source": [
        "del opx\r\n",
        "del few_layer_model\r\n",
        "print(\"done\")"
      ],
      "execution_count": null,
      "outputs": [
        {
          "output_type": "stream",
          "text": [
            "done\n"
          ],
          "name": "stdout"
        }
      ]
    },
    {
      "cell_type": "markdown",
      "metadata": {
        "id": "c6xkYryUQVU5"
      },
      "source": [
        "# ***Pre-Trained Models***"
      ]
    },
    {
      "cell_type": "markdown",
      "metadata": {
        "id": "HgFpo11DQGH4"
      },
      "source": [
        "## ***VGG 16***"
      ]
    },
    {
      "cell_type": "markdown",
      "metadata": {
        "id": "RIUriG9AlqtV"
      },
      "source": [
        "### **Unweigted**"
      ]
    },
    {
      "cell_type": "code",
      "metadata": {
        "id": "amuzXu1IkGpj"
      },
      "source": [
        "base_model = VGG16(input_shape = (256, 256, 3), include_top = False, weights =None)\r\n",
        "\r\n",
        "def pre_trained_modelVGG(premodel) :\r\n",
        "  \r\n",
        "  x = layers.Flatten()(premodel.output)\r\n",
        "\r\n",
        "  # Add a fully connected layer with 512 hidden units and ReLU activation\r\n",
        "  x = layers.Dense(1024, activation='relu')(x)\r\n",
        "  x = layers.Dropout(0.5)(x)\r\n",
        "\r\n",
        "  # Add a final sigmoid layer for classification\r\n",
        "  x = layers.Dense(3, activation='softmax')(x)\r\n",
        "\r\n",
        "  return  tf.keras.models.Model(premodel.input, x)   "
      ],
      "execution_count": null,
      "outputs": []
    },
    {
      "cell_type": "code",
      "metadata": {
        "id": "WYj6nnJgsWYo"
      },
      "source": [
        "VGG16opt = tf.keras.optimizers.Adam(lr=INIT_LR, decay=INIT_LR)\r\n",
        "vgg_model=pre_trained_modelVGG(base_model)\r\n",
        "vgg_model.compile(optimizer=VGG16opt, loss=categorical_crossentropy, metrics=[\"acc\"])"
      ],
      "execution_count": null,
      "outputs": []
    },
    {
      "cell_type": "code",
      "metadata": {
        "id": "wXx_XntsMxgq",
        "colab": {
          "base_uri": "https://localhost:8080/"
        },
        "outputId": "d3f91cee-c8dc-43f3-c4b0-7c3006dfdf16"
      },
      "source": [
        "history_validation_accuracy,history_training_accuracy=trainingloop(vgg_model,trainX,trainY,BS,10,VGG16opt)"
      ],
      "execution_count": null,
      "outputs": [
        {
          "output_type": "stream",
          "text": [
            "[INFO] starting epoch 1/10...Epoch 000: Loss: 1.508, accuracy 0.38878676470588236\n",
            "validation accuracy is 0.5110\n",
            "\n",
            "took 0.7717 minutes\n",
            "[INFO] starting epoch 2/10...Epoch 001: Loss: 0.845, accuracy 0.6360294117647058\n",
            "validation accuracy is 0.6765\n",
            "\n",
            "took 0.5887 minutes\n",
            "[INFO] starting epoch 3/10...Epoch 002: Loss: 0.547, accuracy 0.7830882352941176\n",
            "validation accuracy is 0.7794\n",
            "\n",
            "took 0.5889 minutes\n",
            "[INFO] starting epoch 4/10...Epoch 003: Loss: 0.377, accuracy 0.8782169117647058\n",
            "validation accuracy is 0.9118\n",
            "\n",
            "took 0.5876 minutes\n",
            "[INFO] starting epoch 5/10...Epoch 004: Loss: 0.262, accuracy 0.9186580882352942\n",
            "validation accuracy is 0.9154\n",
            "\n",
            "took 0.5876 minutes\n",
            "[INFO] starting epoch 6/10...Epoch 005: Loss: 0.289, accuracy 0.9122242647058824\n",
            "validation accuracy is 0.9228\n",
            "\n",
            "took 0.5869 minutes\n",
            "[INFO] starting epoch 7/10...Epoch 006: Loss: 0.197, accuracy 0.9407169117647058\n",
            "validation accuracy is 0.9430\n",
            "\n",
            "took 0.5872 minutes\n",
            "[INFO] starting epoch 8/10...Epoch 007: Loss: 0.143, accuracy 0.9568014705882353\n",
            "validation accuracy is 0.9412\n",
            "\n",
            "took 0.5893 minutes\n",
            "[INFO] starting epoch 9/10...Epoch 008: Loss: 0.099, accuracy 0.9728860294117647\n",
            "validation accuracy is 0.9265\n",
            "\n",
            "took 0.5877 minutes\n",
            "[INFO] starting epoch 10/10...Epoch 009: Loss: 0.078, accuracy 0.9788602941176471\n",
            "validation accuracy is 0.9246\n",
            "\n",
            "took 0.5874 minutes\n"
          ],
          "name": "stdout"
        }
      ]
    },
    {
      "cell_type": "markdown",
      "metadata": {
        "id": "l9Yy_9Pu1M2r"
      },
      "source": [
        "#### **Test Accuracy**"
      ]
    },
    {
      "cell_type": "code",
      "metadata": {
        "id": "cTESCNHuovLL",
        "colab": {
          "base_uri": "https://localhost:8080/",
          "height": 953
        },
        "outputId": "f8753296-628e-4394-d819-53919eda0045"
      },
      "source": [
        "testing(vgg_model,testX,testY)\r\n",
        "report_yourmoder(vgg_model,testX,testY) \r\n",
        "plotvalidationandTraining(10,history_training_accuracy,history_validation_accuracy)\r\n",
        "history_validation_accuracy.pop(0)\r\n",
        "history_training_accuracy.pop(0)\r\n",
        "del VGG16opt\r\n",
        "del vgg_model\r\n",
        "del base_model "
      ],
      "execution_count": null,
      "outputs": [
        {
          "output_type": "stream",
          "text": [
            "37/37 [==============================] - 3s 77ms/step - loss: 0.2316 - acc: 0.9238\n",
            "[INFO] test accuracy: 0.9245\n",
            "===================================\n",
            "confunsion matrix is \n",
            " 395 2 5 \n",
            " 16 326 18 \n",
            " 43 4 357 \n",
            "===================================\n",
            "===================================\n",
            "precision is \n",
            "class0:87.00 % \n",
            "class1:98.19 % \n",
            "class2:93.95 % \n",
            "\n",
            "===================================\n",
            "===================================\n",
            "recall is \n",
            "class0:98.26 % \n",
            "class1:90.56 % \n",
            "class2:88.37 % \n",
            "\n",
            "===================================\n",
            "===================================\n",
            "f1 is \n",
            "class0:92.29 % \n",
            "class1:94.22 % \n",
            "class2:91.07 % \n",
            "\n",
            "===================================\n",
            "===================================\n",
            "accuracy is \n",
            "class0:0.92\n",
            "===================================\n"
          ],
          "name": "stdout"
        },
        {
          "output_type": "display_data",
          "data": {
            "image/png": "[encoded data removed]",
            "text/plain": [
              "<Figure size 432x288 with 1 Axes>"
            ]
          },
          "metadata": {
            "tags": [],
            "needs_background": "light"
          }
        }
      ]
    },
    {
      "cell_type": "markdown",
      "metadata": {
        "id": "F-iSIYh5Iacy"
      },
      "source": [
        "### **Weighted (Freezing Ealier Layers)** "
      ]
    },
    {
      "cell_type": "code",
      "metadata": {
        "id": "Iz0TFGecE8qw"
      },
      "source": [
        "base_model = VGG16(input_shape = (256, 256, 3), include_top = False, weights =\"imagenet\")\r\n",
        "\r\n",
        "def pre_trained_modelVGG(premodel) :\r\n",
        "  \r\n",
        "  x = layers.Flatten()(premodel.output)\r\n",
        "  for layer in premodel.layers:\r\n",
        "      layer.trainable = False\r\n",
        "\r\n",
        "  # Add a fully connected layer with 512 hidden units and ReLU activation\r\n",
        "  x = layers.Dense(1024, activation='relu')(x)\r\n",
        "  x = layers.Dropout(0.5)(x)\r\n",
        "\r\n",
        "  # Add a final sigmoid layer for classification\r\n",
        "  x = layers.Dense(3, activation='softmax')(x)\r\n",
        "\r\n",
        "  return  tf.keras.models.Model(premodel.input, x)  "
      ],
      "execution_count": null,
      "outputs": []
    },
    {
      "cell_type": "code",
      "metadata": {
        "colab": {
          "base_uri": "https://localhost:8080/"
        },
        "id": "vdhmUpleE9PE",
        "outputId": "cc5acec4-6cde-4a39-8a19-60ffda63b2d5"
      },
      "source": [
        "VGG16opt = tf.keras.optimizers.Adam(lr=INIT_LR, decay=INIT_LR)\r\n",
        "vgg_model=pre_trained_modelVGG(base_model)\r\n",
        "vgg_model.compile(optimizer=VGG16opt, loss=categorical_crossentropy, metrics=[\"acc\"])\r\n",
        "history_validation_accuracy,history_training_accuracy=trainingloop(vgg_model,trainX,trainY,BS,10,VGG16opt)"
      ],
      "execution_count": null,
      "outputs": [
        {
          "output_type": "stream",
          "text": [
            "[INFO] starting epoch 1/10...Epoch 000: Loss: 2.700, accuracy 0.8033088235294118\n",
            "validation accuracy is 0.9320\n",
            "\n",
            "took 0.6047 minutes\n",
            "[INFO] starting epoch 2/10...Epoch 001: Loss: 0.130, accuracy 0.9646139705882353\n",
            "validation accuracy is 0.9173\n",
            "\n",
            "took 0.6039 minutes\n",
            "[INFO] starting epoch 3/10...Epoch 002: Loss: 0.071, accuracy 0.9802389705882353\n",
            "validation accuracy is 0.9559\n",
            "\n",
            "took 0.6038 minutes\n",
            "[INFO] starting epoch 4/10...Epoch 003: Loss: 0.045, accuracy 0.9889705882352942\n",
            "validation accuracy is 0.9614\n",
            "\n",
            "took 0.6021 minutes\n",
            "[INFO] starting epoch 5/10...Epoch 004: Loss: 0.023, accuracy 0.9940257352941176\n",
            "validation accuracy is 0.9761\n",
            "\n",
            "took 0.6086 minutes\n",
            "[INFO] starting epoch 6/10...Epoch 005: Loss: 0.015, accuracy 0.9986213235294118\n",
            "validation accuracy is 0.9706\n",
            "\n",
            "took 0.6015 minutes\n",
            "[INFO] starting epoch 7/10...Epoch 006: Loss: 0.013, accuracy 0.9990808823529411\n",
            "validation accuracy is 0.9596\n",
            "\n",
            "took 0.6106 minutes\n",
            "[INFO] starting epoch 8/10...Epoch 007: Loss: 0.012, accuracy 1.0\n",
            "validation accuracy is 0.9559\n",
            "\n",
            "took 0.6023 minutes\n",
            "[INFO] starting epoch 9/10...Epoch 008: Loss: 0.015, accuracy 0.9990808823529411\n",
            "validation accuracy is 0.9485\n",
            "\n",
            "took 0.612 minutes\n",
            "[INFO] starting epoch 10/10...Epoch 009: Loss: 0.020, accuracy 0.9977022058823529\n",
            "validation accuracy is 0.9485\n",
            "\n",
            "took 0.602 minutes\n"
          ],
          "name": "stdout"
        }
      ]
    },
    {
      "cell_type": "markdown",
      "metadata": {
        "id": "8UOKdzadI2At"
      },
      "source": [
        "#### **Test Accuracy**"
      ]
    },
    {
      "cell_type": "code",
      "metadata": {
        "colab": {
          "base_uri": "https://localhost:8080/",
          "height": 953
        },
        "id": "jiVcC8c9HEKw",
        "outputId": "cfd4ebd2-c8c8-4881-d91f-2be5a26c4cc0"
      },
      "source": [
        "testing(vgg_model,testX,testY)\r\n",
        "report_yourmoder(vgg_model,testX,testY) \r\n",
        "plotvalidationandTraining(10,history_training_accuracy,history_validation_accuracy)\r\n",
        "history_validation_accuracy.pop(0)\r\n",
        "history_training_accuracy.pop(0)\r\n",
        "del VGG16opt\r\n",
        "del vgg_model\r\n",
        "del base_model "
      ],
      "execution_count": null,
      "outputs": [
        {
          "output_type": "stream",
          "text": [
            "37/37 [==============================] - 3s 77ms/step - loss: 0.2088 - acc: 0.9506\n",
            "[INFO] test accuracy: 0.9451\n",
            "===================================\n",
            "confunsion matrix is \n",
            " 401 0 1 \n",
            " 3 356 1 \n",
            " 51 8 345 \n",
            "===================================\n",
            "===================================\n",
            "precision is \n",
            "class0:88.13 % \n",
            "class1:97.80 % \n",
            "class2:99.42 % \n",
            "\n",
            "===================================\n",
            "===================================\n",
            "recall is \n",
            "class0:99.75 % \n",
            "class1:98.89 % \n",
            "class2:85.40 % \n",
            "\n",
            "===================================\n",
            "===================================\n",
            "f1 is \n",
            "class0:93.58 % \n",
            "class1:98.34 % \n",
            "class2:91.88 % \n",
            "\n",
            "===================================\n",
            "===================================\n",
            "accuracy is \n",
            "class0:0.95\n",
            "===================================\n"
          ],
          "name": "stdout"
        },
        {
          "output_type": "display_data",
          "data": {
            "image/png": "[encoded data removed]",
            "text/plain": [
              "<Figure size 432x288 with 1 Axes>"
            ]
          },
          "metadata": {
            "tags": [],
            "needs_background": "light"
          }
        }
      ]
    },
    {
      "cell_type": "markdown",
      "metadata": {
        "id": "6Zovbua1JE-W"
      },
      "source": [
        "### **Weighted  All Layers  Is Traniable**"
      ]
    },
    {
      "cell_type": "code",
      "metadata": {
        "id": "PzJa_DiuJikr"
      },
      "source": [
        "base_model = VGG16(input_shape = (256, 256, 3), include_top = False, weights =\"imagenet\")\r\n",
        "\r\n",
        "def pre_trained_modelVGG(premodel) :\r\n",
        "  \r\n",
        "  x = layers.Flatten()(premodel.output)\r\n",
        "  for layer in premodel.layers:\r\n",
        "      layer.trainable = True \r\n",
        "\r\n",
        "  # Add a fully connected layer with 512 hidden units and ReLU activation\r\n",
        "  x = layers.Dense(1024, activation='relu')(x)\r\n",
        "  x = layers.Dropout(0.5)(x)\r\n",
        "\r\n",
        "  # Add a final sigmoid layer for classification\r\n",
        "  x = layers.Dense(3, activation='softmax')(x)\r\n",
        "\r\n",
        "  return  tf.keras.models.Model(premodel.input, x)  "
      ],
      "execution_count": null,
      "outputs": []
    },
    {
      "cell_type": "markdown",
      "metadata": {
        "id": "N9QMlnrjJq1D"
      },
      "source": [
        "#### **Test Accuracy** "
      ]
    },
    {
      "cell_type": "code",
      "metadata": {
        "colab": {
          "base_uri": "https://localhost:8080/"
        },
        "id": "PlKO62HhHQLY",
        "outputId": "8c1e9e16-a3bf-482d-d371-cab3d111f58c"
      },
      "source": [
        "VGG16opt = tf.keras.optimizers.Adam(lr=INIT_LR, decay=INIT_LR)\r\n",
        "vgg_model=pre_trained_modelVGG(base_model)\r\n",
        "vgg_model.compile(optimizer=VGG16opt, loss=categorical_crossentropy, metrics=[\"acc\"])\r\n",
        "history_validation_accuracy,history_training_accuracy=trainingloop(vgg_model,trainX,trainY,BS,10,VGG16opt)"
      ],
      "execution_count": null,
      "outputs": [
        {
          "output_type": "stream",
          "text": [
            "[INFO] starting epoch 1/10...Epoch 000: Loss: 3.915, accuracy 0.3795955882352941\n",
            "validation accuracy is 0.3548\n",
            "\n",
            "took 0.6023 minutes\n",
            "[INFO] starting epoch 2/10...Epoch 001: Loss: 0.794, accuracy 0.6493566176470589\n",
            "validation accuracy is 0.8842\n",
            "\n",
            "took 0.5992 minutes\n",
            "[INFO] starting epoch 3/10...Epoch 002: Loss: 0.378, accuracy 0.8717830882352942\n",
            "validation accuracy is 0.8327\n",
            "\n",
            "took 0.5969 minutes\n",
            "[INFO] starting epoch 4/10...Epoch 003: Loss: 0.384, accuracy 0.8818933823529411\n",
            "validation accuracy is 0.9081\n",
            "\n",
            "took 0.5969 minutes\n",
            "[INFO] starting epoch 5/10...Epoch 004: Loss: 0.202, accuracy 0.9319852941176471\n",
            "validation accuracy is 0.9007\n",
            "\n",
            "took 0.5965 minutes\n",
            "[INFO] starting epoch 6/10...Epoch 005: Loss: 0.276, accuracy 0.9163602941176471\n",
            "validation accuracy is 0.8971\n",
            "\n",
            "took 0.5975 minutes\n",
            "[INFO] starting epoch 7/10...Epoch 006: Loss: 0.163, accuracy 0.9457720588235294\n",
            "validation accuracy is 0.9191\n",
            "\n",
            "took 0.5966 minutes\n",
            "[INFO] starting epoch 8/10...Epoch 007: Loss: 0.153, accuracy 0.9462316176470589\n",
            "validation accuracy is 0.9265\n",
            "\n",
            "took 0.5967 minutes\n",
            "[INFO] starting epoch 9/10...Epoch 008: Loss: 0.133, accuracy 0.9623161764705882\n",
            "validation accuracy is 0.9485\n",
            "\n",
            "took 0.5971 minutes\n",
            "[INFO] starting epoch 10/10...Epoch 009: Loss: 0.109, accuracy 0.9682904411764706\n",
            "validation accuracy is 0.9375\n",
            "\n",
            "took 0.5976 minutes\n"
          ],
          "name": "stdout"
        }
      ]
    },
    {
      "cell_type": "code",
      "metadata": {
        "id": "YxJa5ybpJxaw",
        "colab": {
          "base_uri": "https://localhost:8080/",
          "height": 953
        },
        "outputId": "9fcb2d54-cd56-489f-b52d-99feeba42ead"
      },
      "source": [
        "testing(vgg_model,testX,testY)\r\n",
        "report_yourmoder(vgg_model,testX,testY) \r\n",
        "plotvalidationandTraining(10,history_training_accuracy,history_validation_accuracy)\r\n",
        "history_validation_accuracy.pop(0)\r\n",
        "history_training_accuracy.pop(0)\r\n",
        "del VGG16opt\r\n",
        "del vgg_model\r\n",
        "del base_model "
      ],
      "execution_count": null,
      "outputs": [
        {
          "output_type": "stream",
          "text": [
            "37/37 [==============================] - 3s 77ms/step - loss: 0.1652 - acc: 0.9505\n",
            "[INFO] test accuracy: 0.9460\n",
            "===================================\n",
            "confunsion matrix is \n",
            " 388 2 12 \n",
            " 4 338 18 \n",
            " 22 5 377 \n",
            "===================================\n",
            "===================================\n",
            "precision is \n",
            "class0:93.72 % \n",
            "class1:97.97 % \n",
            "class2:92.63 % \n",
            "\n",
            "===================================\n",
            "===================================\n",
            "recall is \n",
            "class0:96.52 % \n",
            "class1:93.89 % \n",
            "class2:93.32 % \n",
            "\n",
            "===================================\n",
            "===================================\n",
            "f1 is \n",
            "class0:95.10 % \n",
            "class1:95.89 % \n",
            "class2:92.97 % \n",
            "\n",
            "===================================\n",
            "===================================\n",
            "accuracy is \n",
            "class0:0.95\n",
            "===================================\n"
          ],
          "name": "stdout"
        },
        {
          "output_type": "display_data",
          "data": {
            "image/png": "[encoded data removed]",
            "text/plain": [
              "<Figure size 432x288 with 1 Axes>"
            ]
          },
          "metadata": {
            "tags": [],
            "needs_background": "light"
          }
        }
      ]
    },
    {
      "cell_type": "markdown",
      "metadata": {
        "id": "L1tQdm4Au3Od"
      },
      "source": [
        "## **ResNet 50**"
      ]
    },
    {
      "cell_type": "code",
      "metadata": {
        "id": "SHfe7eifpR4f"
      },
      "source": [
        "del reznet50model"
      ],
      "execution_count": null,
      "outputs": []
    },
    {
      "cell_type": "markdown",
      "metadata": {
        "id": "AU6VBnPcpO8g"
      },
      "source": [
        "### **Unweigted**"
      ]
    },
    {
      "cell_type": "code",
      "metadata": {
        "id": "B8MOMezheTPp"
      },
      "source": [
        "base_model = ResNet50(input_shape = (256, 256, 3), include_top = False, weights = None)\r\n",
        "\r\n",
        "def pre_trained_modelReznet(premodel) :\r\n",
        "  for layer in base_model.layers:\r\n",
        "      layer.trainable = True\r\n",
        "  x = layers.Flatten()(base_model.output)\r\n",
        "\r\n",
        "  # Add a fully connected layer with 512 hidden units and ReLU activation\r\n",
        "  x = layers.Dense(64, activation='relu')(x)\r\n",
        "\r\n",
        "  # # Add a dropout rate of 0.5\r\n",
        "  # x = layers.Dropout(0.5)(x)\r\n",
        "\r\n",
        "  # Add a final sigmoid layer for classification\r\n",
        "  x = layers.Dense(3, activation='softmax')(x)\r\n",
        "\r\n",
        "  return  tf.keras.models.Model(base_model.input, x)   "
      ],
      "execution_count": null,
      "outputs": []
    },
    {
      "cell_type": "code",
      "metadata": {
        "id": "mtscBnEGmPMS"
      },
      "source": [
        "del base_model"
      ],
      "execution_count": null,
      "outputs": []
    },
    {
      "cell_type": "code",
      "metadata": {
        "colab": {
          "base_uri": "https://localhost:8080/"
        },
        "id": "LIK4GeRlem8m",
        "outputId": "dc968ef1-5e8c-4cf2-bbe2-f20832ab79e6"
      },
      "source": [
        "reznet50opt = Adam(lr=INIT_LR, decay=INIT_LR / EPOCHS)#2#3#4\r\n",
        "reznet50model=pre_trained_modelReznet(base_model)\r\n",
        "reznet50model.compile(optimizer=reznet50opt, loss=categorical_crossentropy, metrics=[\"acc\"])\r\n",
        "history_validation_accuracy,history_training_accuracy=trainingloop(reznet50model,trainX,trainY,BS,20,reznet50opt)"
      ],
      "execution_count": null,
      "outputs": [
        {
          "output_type": "stream",
          "text": [
            "[INFO] starting epoch 1/20...Epoch 000: Loss: 427.111, accuracy 0.5298713235294118\n",
            "validation accuracy is 0.6912\n",
            "\n",
            "took 0.4119 minutes\n",
            "[INFO] starting epoch 2/20...Epoch 001: Loss: 0.476, accuracy 0.8023897058823529\n",
            "validation accuracy is 0.8768\n",
            "\n",
            "took 0.3896 minutes\n",
            "[INFO] starting epoch 3/20...Epoch 002: Loss: 0.328, accuracy 0.8782169117647058\n",
            "validation accuracy is 0.9136\n",
            "\n",
            "took 0.3882 minutes\n",
            "[INFO] starting epoch 4/20...Epoch 003: Loss: 0.253, accuracy 0.9140625\n",
            "validation accuracy is 0.9265\n",
            "\n",
            "took 0.3891 minutes\n",
            "[INFO] starting epoch 5/20...Epoch 004: Loss: 0.213, accuracy 0.9306066176470589\n",
            "validation accuracy is 0.9099\n",
            "\n",
            "took 0.3885 minutes\n",
            "[INFO] starting epoch 6/20...Epoch 005: Loss: 0.235, accuracy 0.9200367647058824\n",
            "validation accuracy is 0.9007\n",
            "\n",
            "took 0.3892 minutes\n",
            "[INFO] starting epoch 7/20...Epoch 006: Loss: 0.188, accuracy 0.9402573529411765\n",
            "validation accuracy is 0.9191\n",
            "\n",
            "took 0.3877 minutes\n",
            "[INFO] starting epoch 8/20...Epoch 007: Loss: 0.166, accuracy 0.9471507352941176\n",
            "validation accuracy is 0.9044\n",
            "\n",
            "took 0.3891 minutes\n",
            "[INFO] starting epoch 9/20...Epoch 008: Loss: 0.158, accuracy 0.9494485294117647\n",
            "validation accuracy is 0.9246\n",
            "\n",
            "took 0.3886 minutes\n",
            "[INFO] starting epoch 10/20...Epoch 009: Loss: 0.140, accuracy 0.9636948529411765\n",
            "validation accuracy is 0.9246\n",
            "\n",
            "took 0.3887 minutes\n",
            "[INFO] starting epoch 11/20...Epoch 010: Loss: 0.111, accuracy 0.9701286764705882\n",
            "validation accuracy is 0.9265\n",
            "\n",
            "took 0.3887 minutes\n",
            "[INFO] starting epoch 12/20...Epoch 011: Loss: 0.099, accuracy 0.9770220588235294\n",
            "validation accuracy is 0.9283\n",
            "\n",
            "took 0.3903 minutes\n",
            "[INFO] starting epoch 13/20...Epoch 012: Loss: 0.087, accuracy 0.9839154411764706\n",
            "validation accuracy is 0.9357\n",
            "\n",
            "took 0.3888 minutes\n",
            "[INFO] starting epoch 14/20...Epoch 013: Loss: 0.077, accuracy 0.9784007352941176\n",
            "validation accuracy is 0.9210\n",
            "\n",
            "took 0.3891 minutes\n",
            "[INFO] starting epoch 15/20...Epoch 014: Loss: 0.077, accuracy 0.9829963235294118\n",
            "validation accuracy is 0.9375\n",
            "\n",
            "took 0.389 minutes\n",
            "[INFO] starting epoch 16/20...Epoch 015: Loss: 0.039, accuracy 0.9926470588235294\n",
            "validation accuracy is 0.9338\n",
            "\n",
            "took 0.3885 minutes\n",
            "[INFO] starting epoch 17/20...Epoch 016: Loss: 0.044, accuracy 0.9954044117647058\n",
            "validation accuracy is 0.9485\n",
            "\n",
            "took 0.387 minutes\n",
            "[INFO] starting epoch 18/20...Epoch 017: Loss: 0.035, accuracy 0.9981617647058824\n",
            "validation accuracy is 0.9246\n",
            "\n",
            "took 0.3891 minutes\n",
            "[INFO] starting epoch 19/20...Epoch 018: Loss: 0.043, accuracy 0.9949448529411765\n",
            "validation accuracy is 0.9320\n",
            "\n",
            "took 0.3881 minutes\n",
            "[INFO] starting epoch 20/20...Epoch 019: Loss: 0.034, accuracy 0.9972426470588235\n",
            "validation accuracy is 0.9430\n",
            "\n",
            "took 0.388 minutes\n"
          ],
          "name": "stdout"
        }
      ]
    },
    {
      "cell_type": "code",
      "metadata": {
        "colab": {
          "base_uri": "https://localhost:8080/",
          "height": 384
        },
        "id": "Q0cyy2F7fMWN",
        "outputId": "775c5f4b-7cb4-4544-aaab-b88bc6ccfe57"
      },
      "source": [
        "plotvalidationandTraining(20,history_training_accuracy,history_validation_accuracy)\r\n",
        "history_validation_accuracy.pop(0)\r\n",
        "history_training_accuracy.pop(0)"
      ],
      "execution_count": null,
      "outputs": [
        {
          "output_type": "display_data",
          "data": {
            "image/png": "[encoded data removed]",
            "text/plain": [
              "<Figure size 432x288 with 1 Axes>"
            ]
          },
          "metadata": {
            "tags": [],
            "needs_background": "light"
          }
        },
        {
          "output_type": "execute_result",
          "data": {
            "text/plain": [
              "0"
            ]
          },
          "metadata": {
            "tags": []
          },
          "execution_count": 36
        }
      ]
    },
    {
      "cell_type": "markdown",
      "metadata": {
        "id": "_F_MuHgN3gRy"
      },
      "source": [
        "#### **Test Accuracy**"
      ]
    },
    {
      "cell_type": "code",
      "metadata": {
        "colab": {
          "base_uri": "https://localhost:8080/"
        },
        "id": "yV2la5dZfTwx",
        "outputId": "953963da-54c6-4245-d8b1-0c289c5ab259"
      },
      "source": [
        "testing(reznet50model,testX,testY)\r\n",
        "report_yourmoder(reznet50model,testX,testY) \r\n",
        "\r\n",
        "del reznet50opt\r\n",
        "del reznet50model\r\n",
        "del base_model "
      ],
      "execution_count": null,
      "outputs": [
        {
          "output_type": "stream",
          "text": [
            "37/37 [==============================] - 4s 65ms/step - loss: 0.2559 - acc: 0.9518\n",
            "[INFO] test accuracy: 0.9408\n",
            "===================================\n",
            "confunsion matrix is \n",
            " 368 2 32 \n",
            " 2 346 12 \n",
            " 17 4 383 \n",
            "===================================\n",
            "===================================\n",
            "precision is \n",
            "class0:95.09 % \n",
            "class1:98.30 % \n",
            "class2:89.70 % \n",
            "\n",
            "===================================\n",
            "===================================\n",
            "recall is \n",
            "class0:91.54 % \n",
            "class1:96.11 % \n",
            "class2:94.80 % \n",
            "\n",
            "===================================\n",
            "===================================\n",
            "f1 is \n",
            "class0:93.28 % \n",
            "class1:97.19 % \n",
            "class2:92.18 % \n",
            "\n",
            "===================================\n",
            "===================================\n",
            "accuracy is \n",
            "class0:0.94\n",
            "===================================\n"
          ],
          "name": "stdout"
        }
      ]
    },
    {
      "cell_type": "markdown",
      "metadata": {
        "id": "gSVXTZbgcZhW"
      },
      "source": [
        "### **Wighted Layers**"
      ]
    },
    {
      "cell_type": "code",
      "metadata": {
        "id": "A0KSr93Wwms4"
      },
      "source": [
        "base_model = ResNet50(input_shape = (256, 256, 3), include_top = False, weights = 'imagenet')\r\n",
        "\r\n",
        "def pre_trained_modelReznet(premodel) :\r\n",
        "  for layer in base_model.layers:\r\n",
        "      layer.trainable = False\r\n",
        "  x = layers.Flatten()(base_model.output)\r\n",
        "\r\n",
        "  # Add a fully connected layer with 512 hidden units and ReLU activation\r\n",
        "  x = layers.Dense(64, activation='relu')(x)\r\n",
        "\r\n",
        "  # # Add a dropout rate of 0.5\r\n",
        "  # x = layers.Dropout(0.5)(x)\r\n",
        "\r\n",
        "  # Add a final sigmoid layer for classification\r\n",
        "  x = layers.Dense(3, activation='softmax')(x)\r\n",
        "\r\n",
        "  return  tf.keras.models.Model(base_model.input, x)   "
      ],
      "execution_count": null,
      "outputs": []
    },
    {
      "cell_type": "code",
      "metadata": {
        "id": "5WO5xv73dWsY",
        "colab": {
          "base_uri": "https://localhost:8080/"
        },
        "outputId": "8a9b736f-6629-4bad-a027-6852793be750"
      },
      "source": [
        ""
      ],
      "execution_count": null,
      "outputs": [
        {
          "output_type": "execute_result",
          "data": {
            "text/plain": [
              "[0,\n",
              " 0.6911764705882353,\n",
              " 0.8768382352941176,\n",
              " 0.9136029411764706,\n",
              " 0.9264705882352942,\n",
              " 0.9099264705882353,\n",
              " 0.9007352941176471,\n",
              " 0.9191176470588235,\n",
              " 0.9044117647058824,\n",
              " 0.9246323529411765,\n",
              " 0.9246323529411765,\n",
              " 0.9264705882352942,\n",
              " 0.9283088235294118,\n",
              " 0.9356617647058824,\n",
              " 0.9209558823529411,\n",
              " 0.9375,\n",
              " 0.9338235294117647,\n",
              " 0.9485294117647058,\n",
              " 0.9246323529411765,\n",
              " 0.9319852941176471,\n",
              " 0.9430147058823529]"
            ]
          },
          "metadata": {
            "tags": []
          },
          "execution_count": 42
        }
      ]
    },
    {
      "cell_type": "code",
      "metadata": {
        "id": "X3t5KrDvwxWW"
      },
      "source": [
        "reznet50opt = Adam(lr=INIT_LR, decay=INIT_LR / EPOCHS)#2#3#4\r\n",
        "reznet50model=pre_trained_modelReznet(base_model)\r\n",
        "reznet50model.compile(optimizer=reznet50opt, loss=categorical_crossentropy, metrics=[\"acc\"])"
      ],
      "execution_count": null,
      "outputs": []
    },
    {
      "cell_type": "code",
      "metadata": {
        "id": "EQLY2iLSxEyF",
        "colab": {
          "base_uri": "https://localhost:8080/"
        },
        "outputId": "85116e98-b512-46d7-ee2e-f780788ea359"
      },
      "source": [
        "history_validation_accuracy,history_training_accuracy=trainingloop(reznet50model,trainX,trainY,64,8,reznet50opt)"
      ],
      "execution_count": null,
      "outputs": [
        {
          "output_type": "stream",
          "text": [
            "[INFO] starting epoch 1/8...Epoch 000: Loss: 4.849, accuracy 0.9007352941176471\n",
            "validation accuracy is 0.9099\n",
            "\n",
            "took 0.4076 minutes\n",
            "[INFO] starting epoch 2/8...Epoch 001: Loss: 0.258, accuracy 0.9802389705882353\n",
            "validation accuracy is 0.9504\n",
            "\n",
            "took 0.3855 minutes\n",
            "[INFO] starting epoch 3/8...Epoch 002: Loss: 0.105, accuracy 0.9912683823529411\n",
            "validation accuracy is 0.9577\n",
            "\n",
            "took 0.3859 minutes\n",
            "[INFO] starting epoch 4/8...Epoch 003: Loss: 0.029, accuracy 0.9963235294117647\n",
            "validation accuracy is 0.9504\n",
            "\n",
            "took 0.3858 minutes\n",
            "[INFO] starting epoch 5/8...Epoch 004: Loss: 0.005, accuracy 0.9986213235294118\n",
            "validation accuracy is 0.9596\n",
            "\n",
            "took 0.3856 minutes\n",
            "[INFO] starting epoch 6/8...Epoch 005: Loss: 0.003, accuracy 0.9990808823529411\n",
            "validation accuracy is 0.9577\n",
            "\n",
            "took 0.3852 minutes\n",
            "[INFO] starting epoch 7/8...Epoch 006: Loss: 0.002, accuracy 0.9990808823529411\n",
            "validation accuracy is 0.9614\n",
            "\n",
            "took 0.3856 minutes\n",
            "[INFO] starting epoch 8/8...Epoch 007: Loss: 0.001, accuracy 0.9990808823529411\n",
            "validation accuracy is 0.9614\n",
            "\n",
            "took 0.3848 minutes\n"
          ],
          "name": "stdout"
        }
      ]
    },
    {
      "cell_type": "markdown",
      "metadata": {
        "id": "e2NzJy0-XHhY"
      },
      "source": [
        "first 20 epoch"
      ]
    },
    {
      "cell_type": "code",
      "metadata": {
        "colab": {
          "base_uri": "https://localhost:8080/",
          "height": 384
        },
        "id": "sEBPcdlgXMHb",
        "outputId": "8e80d7e8-ee19-40df-921b-1fd48f7fc91b"
      },
      "source": [
        "plotvalidationandTraining(8,history_training_accuracy,history_validation_accuracy)\r\n",
        "history_validation_accuracy.pop(0)\r\n",
        "history_training_accuracy.pop(0)"
      ],
      "execution_count": null,
      "outputs": [
        {
          "output_type": "display_data",
          "data": {
            "image/png": "[encoded data removed]",
            "text/plain": [
              "<Figure size 432x288 with 1 Axes>"
            ]
          },
          "metadata": {
            "tags": [],
            "needs_background": "light"
          }
        },
        {
          "output_type": "execute_result",
          "data": {
            "text/plain": [
              "0"
            ]
          },
          "metadata": {
            "tags": []
          },
          "execution_count": 49
        }
      ]
    },
    {
      "cell_type": "markdown",
      "metadata": {
        "id": "f0_E_1tJ1cEa"
      },
      "source": [
        "#### **Test Accuracy**"
      ]
    },
    {
      "cell_type": "code",
      "metadata": {
        "id": "umwVkzw8xP3t",
        "colab": {
          "base_uri": "https://localhost:8080/"
        },
        "outputId": "918513c7-f6c4-4a59-ad07-6e00f130d945"
      },
      "source": [
        "testing(reznet50model,testX,testY)\r\n",
        "report_yourmoder(reznet50model,testX,testY) \r\n",
        "del reznet50opt\r\n",
        "del reznet50model"
      ],
      "execution_count": null,
      "outputs": [
        {
          "output_type": "stream",
          "text": [
            "37/37 [==============================] - 4s 65ms/step - loss: 0.2736 - acc: 0.9730\n",
            "[INFO] test accuracy: 0.9734\n",
            "===================================\n",
            "confunsion matrix is \n",
            " 386 1 15 \n",
            " 2 354 4 \n",
            " 7 2 395 \n",
            "===================================\n",
            "===================================\n",
            "precision is \n",
            "class0:97.72 % \n",
            "class1:99.16 % \n",
            "class2:95.41 % \n",
            "\n",
            "===================================\n",
            "===================================\n",
            "recall is \n",
            "class0:96.02 % \n",
            "class1:98.33 % \n",
            "class2:97.77 % \n",
            "\n",
            "===================================\n",
            "===================================\n",
            "f1 is \n",
            "class0:96.86 % \n",
            "class1:98.74 % \n",
            "class2:96.58 % \n",
            "\n",
            "===================================\n",
            "===================================\n",
            "accuracy is \n",
            "class0:0.97\n",
            "===================================\n"
          ],
          "name": "stdout"
        }
      ]
    },
    {
      "cell_type": "markdown",
      "metadata": {
        "id": "w6No-yNdBGxh"
      },
      "source": [
        "## **Inception V3**"
      ]
    },
    {
      "cell_type": "markdown",
      "metadata": {
        "id": "UEK4mikL3HEa"
      },
      "source": [
        "#### **Freezing**"
      ]
    },
    {
      "cell_type": "code",
      "metadata": {
        "id": "XytGYNTIDfzN"
      },
      "source": [
        "base_model = InceptionV3(input_shape = (256, 256, 3), include_top = False, # Leave out the last fully connected layer\r\n",
        "weights = \"imagenet\")\r\n",
        "\r\n",
        "def pre_trained_modelinception(premodel) :\r\n",
        "\r\n",
        "  for layer in premodel.layers[:200]:\r\n",
        "        layer.trainable = False\r\n",
        "  for layer in premodel.layers[200:]:\r\n",
        "        layer.trainable = True\r\n",
        "  x = layers.Flatten()(base_model.output)\r\n",
        "\r\n",
        "  # Add a fully connected layer with 512 hidden units and ReLU activation\r\n",
        "  x = layers.Dense(128, activation='relu')(x)\r\n",
        "\r\n",
        "  # Add a dropout rate of 0.5\r\n",
        "  x = layers.Dropout(0.5)(x)\r\n",
        "  # x = BatchNormalization()(x)\r\n",
        "  # Add a final sigmoid layer for classification\r\n",
        "  x = layers.Dense(3, activation='softmax')(x)\r\n",
        "\r\n",
        "  return  tf.keras.models.Model(base_model.input, x) "
      ],
      "execution_count": null,
      "outputs": []
    },
    {
      "cell_type": "code",
      "metadata": {
        "id": "8sEna6jXE16Z"
      },
      "source": [
        "inceptionopt = Adam(lr=INIT_LR, decay=INIT_LR / EPOCHS)#2#3#4\r\n",
        "\r\n",
        "inceptionX=pre_trained_modelinception(base_model)\r\n",
        "inceptionX.compile(optimizer=inceptionopt , loss=categorical_crossentropy,\r\n",
        "              metrics=[\"acc\"])"
      ],
      "execution_count": null,
      "outputs": []
    },
    {
      "cell_type": "code",
      "metadata": {
        "id": "lIfg3YShFhpA",
        "colab": {
          "base_uri": "https://localhost:8080/"
        },
        "outputId": "42c892ef-9613-4ac2-e558-7484fce5455d"
      },
      "source": [
        "history_validation_accuracy,history_training_accuracy=trainingloop(inceptionX,trainX,trainY,BS,10,inceptionopt)"
      ],
      "execution_count": null,
      "outputs": [
        {
          "output_type": "stream",
          "text": [
            "[INFO] starting epoch 1/10...Epoch 000: Loss: 1.791, accuracy 0.5667842741935484\n",
            "validation accuracy is 0.8413\n",
            "\n",
            "took 0.6908 minutes\n",
            "[INFO] starting epoch 2/10...Epoch 001: Loss: 0.269, accuracy 0.9133064516129032\n",
            "validation accuracy is 0.9692\n",
            "\n",
            "took 0.6608 minutes\n",
            "[INFO] starting epoch 3/10...Epoch 002: Loss: 0.204, accuracy 0.9417842741935484\n",
            "validation accuracy is 0.9286\n",
            "\n",
            "took 0.6612 minutes\n",
            "[INFO] starting epoch 4/10...Epoch 003: Loss: 0.163, accuracy 0.9564012096774194\n",
            "validation accuracy is 0.9643\n",
            "\n",
            "took 0.6591 minutes\n",
            "[INFO] starting epoch 5/10...Epoch 004: Loss: 0.112, accuracy 0.9717741935483871\n",
            "validation accuracy is 0.9643\n",
            "\n",
            "took 0.6556 minutes\n",
            "[INFO] starting epoch 6/10...Epoch 005: Loss: 0.071, accuracy 0.9838709677419355\n",
            "validation accuracy is 0.9732\n",
            "\n",
            "took 0.6553 minutes\n",
            "[INFO] starting epoch 7/10...Epoch 006: Loss: 0.062, accuracy 0.9873991935483871\n",
            "validation accuracy is 0.9692\n",
            "\n",
            "took 0.6619 minutes\n",
            "[INFO] starting epoch 8/10...Epoch 007: Loss: 0.062, accuracy 0.9884072580645161\n",
            "validation accuracy is 0.9792\n",
            "\n",
            "took 0.6603 minutes\n",
            "[INFO] starting epoch 9/10...Epoch 008: Loss: 0.035, accuracy 0.9957157258064516\n",
            "validation accuracy is 0.9742\n",
            "\n",
            "took 0.659 minutes\n",
            "[INFO] starting epoch 10/10...Epoch 009: Loss: 0.042, accuracy 0.9939516129032258\n",
            "validation accuracy is 0.9633\n",
            "\n",
            "took 0.6551 minutes\n"
          ],
          "name": "stdout"
        }
      ]
    },
    {
      "cell_type": "markdown",
      "metadata": {
        "id": "7EGm5E5V10fe"
      },
      "source": [
        "#### **Test Accuracy**"
      ]
    },
    {
      "cell_type": "code",
      "metadata": {
        "colab": {
          "base_uri": "https://localhost:8080/"
        },
        "id": "RGrpNZJF6hdK",
        "outputId": "405efda0-ffb2-400b-ccfa-9aedffe88798"
      },
      "source": [
        "history_validation_accuracy.pop(0)\r\n",
        "history_training_accuracy.pop(0)"
      ],
      "execution_count": null,
      "outputs": [
        {
          "output_type": "execute_result",
          "data": {
            "text/plain": [
              "0"
            ]
          },
          "metadata": {
            "tags": []
          },
          "execution_count": 46
        }
      ]
    },
    {
      "cell_type": "code",
      "metadata": {
        "id": "5tsdEdj0Ge43",
        "colab": {
          "base_uri": "https://localhost:8080/",
          "height": 953
        },
        "outputId": "c3d9930b-f6cb-40ef-bcab-c068aeac4c73"
      },
      "source": [
        "plotvalidationandTraining(10,history_training_accuracy,history_validation_accuracy)\r\n",
        "history_validation_accuracy.pop(0)\r\n",
        "history_training_accuracy.pop(0)\r\n",
        "testing(inceptionX,testX,testY)\r\n",
        "report_yourmoder(inceptionX,testX,testY) \r\n",
        "del inceptionopt\r\n",
        "del inceptionX\r\n",
        "del base_model "
      ],
      "execution_count": null,
      "outputs": [
        {
          "output_type": "display_data",
          "data": {
            "image/png": "[encoded data removed]",
            "text/plain": [
              "<Figure size 432x288 with 1 Axes>"
            ]
          },
          "metadata": {
            "tags": [],
            "needs_background": "light"
          }
        },
        {
          "output_type": "stream",
          "text": [
            "68/68 [==============================] - 6s 60ms/step - loss: 0.1634 - acc: 0.9640\n",
            "[INFO] test accuracy: 0.9606\n",
            "===================================\n",
            "confunsion matrix is \n",
            " 659 4 57 \n",
            " 3 710 7 \n",
            " 13 1 706 \n",
            "===================================\n",
            "===================================\n",
            "precision is \n",
            "class0:97.63 % \n",
            "class1:99.30 % \n",
            "class2:91.69 % \n",
            "\n",
            "===================================\n",
            "===================================\n",
            "recall is \n",
            "class0:91.53 % \n",
            "class1:98.61 % \n",
            "class2:98.06 % \n",
            "\n",
            "===================================\n",
            "===================================\n",
            "f1 is \n",
            "class0:94.48 % \n",
            "class1:98.95 % \n",
            "class2:94.77 % \n",
            "\n",
            "===================================\n",
            "===================================\n",
            "accuracy is \n",
            "class0:0.96\n",
            "===================================\n"
          ],
          "name": "stdout"
        }
      ]
    }
  ]
}